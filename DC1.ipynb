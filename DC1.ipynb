{
 "cells": [
  {
   "cell_type": "markdown",
   "id": "0c4c8cba-2ca1-4ef0-98dc-fdb302663d8d",
   "metadata": {},
   "source": [
    "# Introduction\n",
    "\n",
    "Given a dataset of a sample of flights to and from SFO, we will try to predict the cargo volume of a flight in tons.\n",
    "\n",
    "The features we are provided is Activity Period, Operating Airline and its IATA Code, Published Airline and its IATA code, Whether a flight if domestic or international, where in particular a flight is going or coming from, wheher the flight is an arrival or a departure, the type of cargo, and the type of aircraft."
   ]
  },
  {
   "cell_type": "markdown",
   "id": "57930a97-b41c-4747-bd53-06ee07a98c62",
   "metadata": {},
   "source": [
    "# EDA"
   ]
  },
  {
   "cell_type": "code",
   "execution_count": 1,
   "id": "9df75344-24af-4e42-823c-1ef4e1365a58",
   "metadata": {},
   "outputs": [
    {
     "data": {
      "text/html": [
       "<div>\n",
       "<style scoped>\n",
       "    .dataframe tbody tr th:only-of-type {\n",
       "        vertical-align: middle;\n",
       "    }\n",
       "\n",
       "    .dataframe tbody tr th {\n",
       "        vertical-align: top;\n",
       "    }\n",
       "\n",
       "    .dataframe thead th {\n",
       "        text-align: right;\n",
       "    }\n",
       "</style>\n",
       "<table border=\"1\" class=\"dataframe\">\n",
       "  <thead>\n",
       "    <tr style=\"text-align: right;\">\n",
       "      <th></th>\n",
       "      <th>Activity Period</th>\n",
       "      <th>Operating Airline</th>\n",
       "      <th>Operating Airline IATA Code</th>\n",
       "      <th>Published Airline</th>\n",
       "      <th>Published Airline IATA Code</th>\n",
       "      <th>GEO Summary</th>\n",
       "      <th>GEO Region</th>\n",
       "      <th>Activity Type Code</th>\n",
       "      <th>Cargo Type Code</th>\n",
       "      <th>Cargo Aircraft Type</th>\n",
       "      <th>Cargo Metric TONS</th>\n",
       "    </tr>\n",
       "  </thead>\n",
       "  <tbody>\n",
       "    <tr>\n",
       "      <th>0</th>\n",
       "      <td>201601</td>\n",
       "      <td>Sun Country Airlines</td>\n",
       "      <td>SY</td>\n",
       "      <td>Sun Country Airlines</td>\n",
       "      <td>SY</td>\n",
       "      <td>Domestic</td>\n",
       "      <td>US</td>\n",
       "      <td>Enplaned</td>\n",
       "      <td>Cargo</td>\n",
       "      <td>Passenger</td>\n",
       "      <td>8.871509</td>\n",
       "    </tr>\n",
       "    <tr>\n",
       "      <th>1</th>\n",
       "      <td>200811</td>\n",
       "      <td>United Airlines</td>\n",
       "      <td>UA</td>\n",
       "      <td>United Airlines</td>\n",
       "      <td>UA</td>\n",
       "      <td>Domestic</td>\n",
       "      <td>US</td>\n",
       "      <td>Deplaned</td>\n",
       "      <td>Cargo</td>\n",
       "      <td>Passenger</td>\n",
       "      <td>53.946194</td>\n",
       "    </tr>\n",
       "    <tr>\n",
       "      <th>2</th>\n",
       "      <td>200709</td>\n",
       "      <td>Qantas Airways</td>\n",
       "      <td>QF</td>\n",
       "      <td>Qantas Airways</td>\n",
       "      <td>QF</td>\n",
       "      <td>International</td>\n",
       "      <td>Australia / Oceania</td>\n",
       "      <td>Deplaned</td>\n",
       "      <td>Express</td>\n",
       "      <td>Passenger</td>\n",
       "      <td>0.043999</td>\n",
       "    </tr>\n",
       "    <tr>\n",
       "      <th>3</th>\n",
       "      <td>201608</td>\n",
       "      <td>Philippine Airlines</td>\n",
       "      <td>PR</td>\n",
       "      <td>Philippine Airlines</td>\n",
       "      <td>PR</td>\n",
       "      <td>International</td>\n",
       "      <td>Asia</td>\n",
       "      <td>Deplaned</td>\n",
       "      <td>Mail</td>\n",
       "      <td>Passenger</td>\n",
       "      <td>19.023530</td>\n",
       "    </tr>\n",
       "    <tr>\n",
       "      <th>4</th>\n",
       "      <td>201708</td>\n",
       "      <td>Singapore Airlines</td>\n",
       "      <td>SQ</td>\n",
       "      <td>Singapore Airlines</td>\n",
       "      <td>SQ</td>\n",
       "      <td>International</td>\n",
       "      <td>Asia</td>\n",
       "      <td>Deplaned</td>\n",
       "      <td>Express</td>\n",
       "      <td>Passenger</td>\n",
       "      <td>6.951420</td>\n",
       "    </tr>\n",
       "    <tr>\n",
       "      <th>...</th>\n",
       "      <td>...</td>\n",
       "      <td>...</td>\n",
       "      <td>...</td>\n",
       "      <td>...</td>\n",
       "      <td>...</td>\n",
       "      <td>...</td>\n",
       "      <td>...</td>\n",
       "      <td>...</td>\n",
       "      <td>...</td>\n",
       "      <td>...</td>\n",
       "      <td>...</td>\n",
       "    </tr>\n",
       "    <tr>\n",
       "      <th>27225</th>\n",
       "      <td>201108</td>\n",
       "      <td>United Airlines - Pre 07/01/2013</td>\n",
       "      <td>UA</td>\n",
       "      <td>United Airlines - Pre 07/01/2013</td>\n",
       "      <td>UA</td>\n",
       "      <td>International</td>\n",
       "      <td>Canada</td>\n",
       "      <td>Enplaned</td>\n",
       "      <td>Express</td>\n",
       "      <td>Passenger</td>\n",
       "      <td>5.687690</td>\n",
       "    </tr>\n",
       "    <tr>\n",
       "      <th>27226</th>\n",
       "      <td>200703</td>\n",
       "      <td>Asiana Airlines</td>\n",
       "      <td>OZ</td>\n",
       "      <td>Asiana Airlines</td>\n",
       "      <td>OZ</td>\n",
       "      <td>International</td>\n",
       "      <td>Asia</td>\n",
       "      <td>Deplaned</td>\n",
       "      <td>Mail</td>\n",
       "      <td>Freighter</td>\n",
       "      <td>3.473669</td>\n",
       "    </tr>\n",
       "    <tr>\n",
       "      <th>27227</th>\n",
       "      <td>201204</td>\n",
       "      <td>US Airways</td>\n",
       "      <td>US</td>\n",
       "      <td>US Airways</td>\n",
       "      <td>US</td>\n",
       "      <td>Domestic</td>\n",
       "      <td>US</td>\n",
       "      <td>Deplaned</td>\n",
       "      <td>Cargo</td>\n",
       "      <td>Passenger</td>\n",
       "      <td>18.564941</td>\n",
       "    </tr>\n",
       "    <tr>\n",
       "      <th>27228</th>\n",
       "      <td>201005</td>\n",
       "      <td>Air Canada</td>\n",
       "      <td>AC</td>\n",
       "      <td>Air Canada</td>\n",
       "      <td>AC</td>\n",
       "      <td>International</td>\n",
       "      <td>Canada</td>\n",
       "      <td>Deplaned</td>\n",
       "      <td>Cargo</td>\n",
       "      <td>Passenger</td>\n",
       "      <td>9.814090</td>\n",
       "    </tr>\n",
       "    <tr>\n",
       "      <th>27229</th>\n",
       "      <td>202002</td>\n",
       "      <td>Korean Air Lines</td>\n",
       "      <td>KE</td>\n",
       "      <td>Korean Air Lines</td>\n",
       "      <td>KE</td>\n",
       "      <td>International</td>\n",
       "      <td>Asia</td>\n",
       "      <td>Deplaned</td>\n",
       "      <td>Cargo</td>\n",
       "      <td>Passenger</td>\n",
       "      <td>525.214368</td>\n",
       "    </tr>\n",
       "  </tbody>\n",
       "</table>\n",
       "<p>27230 rows × 11 columns</p>\n",
       "</div>"
      ],
      "text/plain": [
       "       Activity Period                 Operating Airline  \\\n",
       "0               201601              Sun Country Airlines   \n",
       "1               200811                   United Airlines   \n",
       "2               200709                    Qantas Airways   \n",
       "3               201608               Philippine Airlines   \n",
       "4               201708                Singapore Airlines   \n",
       "...                ...                               ...   \n",
       "27225           201108  United Airlines - Pre 07/01/2013   \n",
       "27226           200703                   Asiana Airlines   \n",
       "27227           201204                        US Airways   \n",
       "27228           201005                        Air Canada   \n",
       "27229           202002                  Korean Air Lines   \n",
       "\n",
       "      Operating Airline IATA Code                 Published Airline  \\\n",
       "0                              SY              Sun Country Airlines   \n",
       "1                              UA                   United Airlines   \n",
       "2                              QF                    Qantas Airways   \n",
       "3                              PR               Philippine Airlines   \n",
       "4                              SQ                Singapore Airlines   \n",
       "...                           ...                               ...   \n",
       "27225                          UA  United Airlines - Pre 07/01/2013   \n",
       "27226                          OZ                   Asiana Airlines   \n",
       "27227                          US                        US Airways   \n",
       "27228                          AC                        Air Canada   \n",
       "27229                          KE                  Korean Air Lines   \n",
       "\n",
       "      Published Airline IATA Code    GEO Summary           GEO Region  \\\n",
       "0                              SY       Domestic                   US   \n",
       "1                              UA       Domestic                   US   \n",
       "2                              QF  International  Australia / Oceania   \n",
       "3                              PR  International                 Asia   \n",
       "4                              SQ  International                 Asia   \n",
       "...                           ...            ...                  ...   \n",
       "27225                          UA  International               Canada   \n",
       "27226                          OZ  International                 Asia   \n",
       "27227                          US       Domestic                   US   \n",
       "27228                          AC  International               Canada   \n",
       "27229                          KE  International                 Asia   \n",
       "\n",
       "      Activity Type Code Cargo Type Code Cargo Aircraft Type  \\\n",
       "0               Enplaned           Cargo           Passenger   \n",
       "1               Deplaned           Cargo           Passenger   \n",
       "2               Deplaned         Express           Passenger   \n",
       "3               Deplaned            Mail           Passenger   \n",
       "4               Deplaned         Express           Passenger   \n",
       "...                  ...             ...                 ...   \n",
       "27225           Enplaned         Express           Passenger   \n",
       "27226           Deplaned            Mail           Freighter   \n",
       "27227           Deplaned           Cargo           Passenger   \n",
       "27228           Deplaned           Cargo           Passenger   \n",
       "27229           Deplaned           Cargo           Passenger   \n",
       "\n",
       "       Cargo Metric TONS  \n",
       "0               8.871509  \n",
       "1              53.946194  \n",
       "2               0.043999  \n",
       "3              19.023530  \n",
       "4               6.951420  \n",
       "...                  ...  \n",
       "27225           5.687690  \n",
       "27226           3.473669  \n",
       "27227          18.564941  \n",
       "27228           9.814090  \n",
       "27229         525.214368  \n",
       "\n",
       "[27230 rows x 11 columns]"
      ]
     },
     "execution_count": 1,
     "metadata": {},
     "output_type": "execute_result"
    }
   ],
   "source": [
    "import pandas as pd\n",
    "import seaborn as sns\n",
    "import matplotlib.pyplot as plt\n",
    "import numpy as np\n",
    "\n",
    "df = pd.read_csv('Cargo Volume - Train.csv')\n",
    "df"
   ]
  },
  {
   "cell_type": "code",
   "execution_count": 2,
   "id": "9229bf87-fdbe-4489-b10a-47b96bdcc3aa",
   "metadata": {},
   "outputs": [
    {
     "name": "stdout",
     "output_type": "stream",
     "text": [
      "<class 'pandas.core.frame.DataFrame'>\n",
      "RangeIndex: 27230 entries, 0 to 27229\n",
      "Data columns (total 11 columns):\n",
      " #   Column                       Non-Null Count  Dtype  \n",
      "---  ------                       --------------  -----  \n",
      " 0   Activity Period              27230 non-null  int64  \n",
      " 1   Operating Airline            27230 non-null  object \n",
      " 2   Operating Airline IATA Code  27199 non-null  object \n",
      " 3   Published Airline            27230 non-null  object \n",
      " 4   Published Airline IATA Code  27199 non-null  object \n",
      " 5   GEO Summary                  27230 non-null  object \n",
      " 6   GEO Region                   27230 non-null  object \n",
      " 7   Activity Type Code           27230 non-null  object \n",
      " 8   Cargo Type Code              27230 non-null  object \n",
      " 9   Cargo Aircraft Type          27230 non-null  object \n",
      " 10  Cargo Metric TONS            27230 non-null  float64\n",
      "dtypes: float64(1), int64(1), object(9)\n",
      "memory usage: 2.3+ MB\n"
     ]
    }
   ],
   "source": [
    "df.info()"
   ]
  },
  {
   "cell_type": "markdown",
   "id": "c0bedeb8-6243-4f8a-b309-9655c5cf078f",
   "metadata": {},
   "source": [
    "Most of the data are strings which will need to be converted into numerical data. In addition, while ``Operating Airline IATA Code`` and ``Published Airline IATA Code`` have null values, they are different ways to represent ``Operating Airline`` and ``Published Airline`` respecively. As such, we can drop the columns without losing data."
   ]
  },
  {
   "cell_type": "code",
   "execution_count": 3,
   "id": "a043c6ac-c609-46d1-af0e-f68cee5063c8",
   "metadata": {},
   "outputs": [
    {
     "data": {
      "text/html": [
       "<div>\n",
       "<style scoped>\n",
       "    .dataframe tbody tr th:only-of-type {\n",
       "        vertical-align: middle;\n",
       "    }\n",
       "\n",
       "    .dataframe tbody tr th {\n",
       "        vertical-align: top;\n",
       "    }\n",
       "\n",
       "    .dataframe thead th {\n",
       "        text-align: right;\n",
       "    }\n",
       "</style>\n",
       "<table border=\"1\" class=\"dataframe\">\n",
       "  <thead>\n",
       "    <tr style=\"text-align: right;\">\n",
       "      <th></th>\n",
       "      <th>Activity Period</th>\n",
       "      <th>Cargo Metric TONS</th>\n",
       "    </tr>\n",
       "  </thead>\n",
       "  <tbody>\n",
       "    <tr>\n",
       "      <th>count</th>\n",
       "      <td>27230.000000</td>\n",
       "      <td>27230.000000</td>\n",
       "    </tr>\n",
       "    <tr>\n",
       "      <th>mean</th>\n",
       "      <td>201277.964378</td>\n",
       "      <td>216.669953</td>\n",
       "    </tr>\n",
       "    <tr>\n",
       "      <th>std</th>\n",
       "      <td>451.796120</td>\n",
       "      <td>432.731356</td>\n",
       "    </tr>\n",
       "    <tr>\n",
       "      <th>min</th>\n",
       "      <td>200507.000000</td>\n",
       "      <td>0.000454</td>\n",
       "    </tr>\n",
       "    <tr>\n",
       "      <th>25%</th>\n",
       "      <td>200904.000000</td>\n",
       "      <td>8.446826</td>\n",
       "    </tr>\n",
       "    <tr>\n",
       "      <th>50%</th>\n",
       "      <td>201303.000000</td>\n",
       "      <td>60.774235</td>\n",
       "    </tr>\n",
       "    <tr>\n",
       "      <th>75%</th>\n",
       "      <td>201703.000000</td>\n",
       "      <td>247.236041</td>\n",
       "    </tr>\n",
       "    <tr>\n",
       "      <th>max</th>\n",
       "      <td>202012.000000</td>\n",
       "      <td>10801.278330</td>\n",
       "    </tr>\n",
       "  </tbody>\n",
       "</table>\n",
       "</div>"
      ],
      "text/plain": [
       "       Activity Period  Cargo Metric TONS\n",
       "count     27230.000000       27230.000000\n",
       "mean     201277.964378         216.669953\n",
       "std         451.796120         432.731356\n",
       "min      200507.000000           0.000454\n",
       "25%      200904.000000           8.446826\n",
       "50%      201303.000000          60.774235\n",
       "75%      201703.000000         247.236041\n",
       "max      202012.000000       10801.278330"
      ]
     },
     "execution_count": 3,
     "metadata": {},
     "output_type": "execute_result"
    }
   ],
   "source": [
    "df.describe()"
   ]
  },
  {
   "cell_type": "code",
   "execution_count": 4,
   "id": "9b28b246-14d9-4f49-8caa-e9bd90c3b3f8",
   "metadata": {},
   "outputs": [
    {
     "data": {
      "image/png": "[encoded data removed]",
      "text/plain": [
       "<Figure size 640x480 with 1 Axes>"
      ]
     },
     "metadata": {},
     "output_type": "display_data"
    }
   ],
   "source": [
    "plt.hist(df['Cargo Metric TONS'], bins=50)\n",
    "plt.title(\"Distribution of Cargo Metric Tons\")\n",
    "plt.xlabel(\"Cargo Metric Tons\")\n",
    "plt.ylabel(\"Count\")\n",
    "plt.show()"
   ]
  },
  {
   "cell_type": "code",
   "execution_count": 5,
   "id": "49f02f01-d6d6-43c4-a9f0-6994d9c861d7",
   "metadata": {},
   "outputs": [
    {
     "data": {
      "image/png": "[encoded data removed]",
      "text/plain": [
       "<Figure size 640x480 with 1 Axes>"
      ]
     },
     "metadata": {},
     "output_type": "display_data"
    }
   ],
   "source": [
    "plt.boxplot(df['Cargo Metric TONS'], vert=False)\n",
    "plt.title(\"Distribution of Cargo Metric Tons\")\n",
    "plt.xlabel(\"Cargo Metric Tons\")\n",
    "plt.show()"
   ]
  },
  {
   "cell_type": "markdown",
   "id": "83ae0a4f-4050-4bb0-98bb-5ea7b22b280b",
   "metadata": {},
   "source": [
    "The distribution is not normal and skewed to the right. Most notably, the maximum value is much higher than the rest of the data, suggesting outliers. Upper outliers are defined as greater or equal to 1.5 * IQR + Q3. There are no lower outliers in this dataset."
   ]
  },
  {
   "cell_type": "code",
   "execution_count": 6,
   "id": "3efe87ac-3f9c-4200-bc19-3ec0996cb383",
   "metadata": {},
   "outputs": [
    {
     "data": {
      "text/plain": [
       "count     2484.000000\n",
       "mean      1251.937072\n",
       "std        814.587496\n",
       "min        605.512001\n",
       "25%        748.659316\n",
       "50%        956.835407\n",
       "75%       1423.548189\n",
       "max      10801.278330\n",
       "Name: Cargo Metric TONS, dtype: float64"
      ]
     },
     "execution_count": 6,
     "metadata": {},
     "output_type": "execute_result"
    }
   ],
   "source": [
    "outliers = df[df['Cargo Metric TONS'] >= (1.5 * (247.24 - 8.45)) + 247.24]\n",
    "outliers['Cargo Metric TONS'].describe()"
   ]
  },
  {
   "cell_type": "markdown",
   "id": "d0066733-095d-49a0-86be-4088aec3e36a",
   "metadata": {},
   "source": [
    "The outliers consist of a significant number of points over a large range. It is better to keep the outliers to help predict for test data in this range.\n",
    "\n",
    "However, the top two points are far above the rest of the data, so it would be best to remove them."
   ]
  },
  {
   "cell_type": "code",
   "execution_count": 7,
   "id": "d2dda25e-6914-4e0d-aa6e-f20470567598",
   "metadata": {},
   "outputs": [
    {
     "data": {
      "text/html": [
       "<div>\n",
       "<style scoped>\n",
       "    .dataframe tbody tr th:only-of-type {\n",
       "        vertical-align: middle;\n",
       "    }\n",
       "\n",
       "    .dataframe tbody tr th {\n",
       "        vertical-align: top;\n",
       "    }\n",
       "\n",
       "    .dataframe thead th {\n",
       "        text-align: right;\n",
       "    }\n",
       "</style>\n",
       "<table border=\"1\" class=\"dataframe\">\n",
       "  <thead>\n",
       "    <tr style=\"text-align: right;\">\n",
       "      <th></th>\n",
       "      <th>Activity Period</th>\n",
       "      <th>Operating Airline</th>\n",
       "      <th>Operating Airline IATA Code</th>\n",
       "      <th>Published Airline</th>\n",
       "      <th>Published Airline IATA Code</th>\n",
       "      <th>GEO Summary</th>\n",
       "      <th>GEO Region</th>\n",
       "      <th>Activity Type Code</th>\n",
       "      <th>Cargo Type Code</th>\n",
       "      <th>Cargo Aircraft Type</th>\n",
       "      <th>Cargo Metric TONS</th>\n",
       "    </tr>\n",
       "  </thead>\n",
       "  <tbody>\n",
       "    <tr>\n",
       "      <th>0</th>\n",
       "      <td>201601</td>\n",
       "      <td>Sun Country Airlines</td>\n",
       "      <td>SY</td>\n",
       "      <td>Sun Country Airlines</td>\n",
       "      <td>SY</td>\n",
       "      <td>Domestic</td>\n",
       "      <td>US</td>\n",
       "      <td>Enplaned</td>\n",
       "      <td>Cargo</td>\n",
       "      <td>Passenger</td>\n",
       "      <td>8.871509</td>\n",
       "    </tr>\n",
       "    <tr>\n",
       "      <th>1</th>\n",
       "      <td>200811</td>\n",
       "      <td>United Airlines</td>\n",
       "      <td>UA</td>\n",
       "      <td>United Airlines</td>\n",
       "      <td>UA</td>\n",
       "      <td>Domestic</td>\n",
       "      <td>US</td>\n",
       "      <td>Deplaned</td>\n",
       "      <td>Cargo</td>\n",
       "      <td>Passenger</td>\n",
       "      <td>53.946194</td>\n",
       "    </tr>\n",
       "    <tr>\n",
       "      <th>2</th>\n",
       "      <td>200709</td>\n",
       "      <td>Qantas Airways</td>\n",
       "      <td>QF</td>\n",
       "      <td>Qantas Airways</td>\n",
       "      <td>QF</td>\n",
       "      <td>International</td>\n",
       "      <td>Australia / Oceania</td>\n",
       "      <td>Deplaned</td>\n",
       "      <td>Express</td>\n",
       "      <td>Passenger</td>\n",
       "      <td>0.043999</td>\n",
       "    </tr>\n",
       "    <tr>\n",
       "      <th>3</th>\n",
       "      <td>201608</td>\n",
       "      <td>Philippine Airlines</td>\n",
       "      <td>PR</td>\n",
       "      <td>Philippine Airlines</td>\n",
       "      <td>PR</td>\n",
       "      <td>International</td>\n",
       "      <td>Asia</td>\n",
       "      <td>Deplaned</td>\n",
       "      <td>Mail</td>\n",
       "      <td>Passenger</td>\n",
       "      <td>19.023530</td>\n",
       "    </tr>\n",
       "    <tr>\n",
       "      <th>4</th>\n",
       "      <td>201708</td>\n",
       "      <td>Singapore Airlines</td>\n",
       "      <td>SQ</td>\n",
       "      <td>Singapore Airlines</td>\n",
       "      <td>SQ</td>\n",
       "      <td>International</td>\n",
       "      <td>Asia</td>\n",
       "      <td>Deplaned</td>\n",
       "      <td>Express</td>\n",
       "      <td>Passenger</td>\n",
       "      <td>6.951420</td>\n",
       "    </tr>\n",
       "    <tr>\n",
       "      <th>...</th>\n",
       "      <td>...</td>\n",
       "      <td>...</td>\n",
       "      <td>...</td>\n",
       "      <td>...</td>\n",
       "      <td>...</td>\n",
       "      <td>...</td>\n",
       "      <td>...</td>\n",
       "      <td>...</td>\n",
       "      <td>...</td>\n",
       "      <td>...</td>\n",
       "      <td>...</td>\n",
       "    </tr>\n",
       "    <tr>\n",
       "      <th>27223</th>\n",
       "      <td>201108</td>\n",
       "      <td>United Airlines - Pre 07/01/2013</td>\n",
       "      <td>UA</td>\n",
       "      <td>United Airlines - Pre 07/01/2013</td>\n",
       "      <td>UA</td>\n",
       "      <td>International</td>\n",
       "      <td>Canada</td>\n",
       "      <td>Enplaned</td>\n",
       "      <td>Express</td>\n",
       "      <td>Passenger</td>\n",
       "      <td>5.687690</td>\n",
       "    </tr>\n",
       "    <tr>\n",
       "      <th>27224</th>\n",
       "      <td>200703</td>\n",
       "      <td>Asiana Airlines</td>\n",
       "      <td>OZ</td>\n",
       "      <td>Asiana Airlines</td>\n",
       "      <td>OZ</td>\n",
       "      <td>International</td>\n",
       "      <td>Asia</td>\n",
       "      <td>Deplaned</td>\n",
       "      <td>Mail</td>\n",
       "      <td>Freighter</td>\n",
       "      <td>3.473669</td>\n",
       "    </tr>\n",
       "    <tr>\n",
       "      <th>27225</th>\n",
       "      <td>201204</td>\n",
       "      <td>US Airways</td>\n",
       "      <td>US</td>\n",
       "      <td>US Airways</td>\n",
       "      <td>US</td>\n",
       "      <td>Domestic</td>\n",
       "      <td>US</td>\n",
       "      <td>Deplaned</td>\n",
       "      <td>Cargo</td>\n",
       "      <td>Passenger</td>\n",
       "      <td>18.564941</td>\n",
       "    </tr>\n",
       "    <tr>\n",
       "      <th>27226</th>\n",
       "      <td>201005</td>\n",
       "      <td>Air Canada</td>\n",
       "      <td>AC</td>\n",
       "      <td>Air Canada</td>\n",
       "      <td>AC</td>\n",
       "      <td>International</td>\n",
       "      <td>Canada</td>\n",
       "      <td>Deplaned</td>\n",
       "      <td>Cargo</td>\n",
       "      <td>Passenger</td>\n",
       "      <td>9.814090</td>\n",
       "    </tr>\n",
       "    <tr>\n",
       "      <th>27227</th>\n",
       "      <td>202002</td>\n",
       "      <td>Korean Air Lines</td>\n",
       "      <td>KE</td>\n",
       "      <td>Korean Air Lines</td>\n",
       "      <td>KE</td>\n",
       "      <td>International</td>\n",
       "      <td>Asia</td>\n",
       "      <td>Deplaned</td>\n",
       "      <td>Cargo</td>\n",
       "      <td>Passenger</td>\n",
       "      <td>525.214368</td>\n",
       "    </tr>\n",
       "  </tbody>\n",
       "</table>\n",
       "<p>27228 rows × 11 columns</p>\n",
       "</div>"
      ],
      "text/plain": [
       "       Activity Period                 Operating Airline  \\\n",
       "0               201601              Sun Country Airlines   \n",
       "1               200811                   United Airlines   \n",
       "2               200709                    Qantas Airways   \n",
       "3               201608               Philippine Airlines   \n",
       "4               201708                Singapore Airlines   \n",
       "...                ...                               ...   \n",
       "27223           201108  United Airlines - Pre 07/01/2013   \n",
       "27224           200703                   Asiana Airlines   \n",
       "27225           201204                        US Airways   \n",
       "27226           201005                        Air Canada   \n",
       "27227           202002                  Korean Air Lines   \n",
       "\n",
       "      Operating Airline IATA Code                 Published Airline  \\\n",
       "0                              SY              Sun Country Airlines   \n",
       "1                              UA                   United Airlines   \n",
       "2                              QF                    Qantas Airways   \n",
       "3                              PR               Philippine Airlines   \n",
       "4                              SQ                Singapore Airlines   \n",
       "...                           ...                               ...   \n",
       "27223                          UA  United Airlines - Pre 07/01/2013   \n",
       "27224                          OZ                   Asiana Airlines   \n",
       "27225                          US                        US Airways   \n",
       "27226                          AC                        Air Canada   \n",
       "27227                          KE                  Korean Air Lines   \n",
       "\n",
       "      Published Airline IATA Code    GEO Summary           GEO Region  \\\n",
       "0                              SY       Domestic                   US   \n",
       "1                              UA       Domestic                   US   \n",
       "2                              QF  International  Australia / Oceania   \n",
       "3                              PR  International                 Asia   \n",
       "4                              SQ  International                 Asia   \n",
       "...                           ...            ...                  ...   \n",
       "27223                          UA  International               Canada   \n",
       "27224                          OZ  International                 Asia   \n",
       "27225                          US       Domestic                   US   \n",
       "27226                          AC  International               Canada   \n",
       "27227                          KE  International                 Asia   \n",
       "\n",
       "      Activity Type Code Cargo Type Code Cargo Aircraft Type  \\\n",
       "0               Enplaned           Cargo           Passenger   \n",
       "1               Deplaned           Cargo           Passenger   \n",
       "2               Deplaned         Express           Passenger   \n",
       "3               Deplaned            Mail           Passenger   \n",
       "4               Deplaned         Express           Passenger   \n",
       "...                  ...             ...                 ...   \n",
       "27223           Enplaned         Express           Passenger   \n",
       "27224           Deplaned            Mail           Freighter   \n",
       "27225           Deplaned           Cargo           Passenger   \n",
       "27226           Deplaned           Cargo           Passenger   \n",
       "27227           Deplaned           Cargo           Passenger   \n",
       "\n",
       "       Cargo Metric TONS  \n",
       "0               8.871509  \n",
       "1              53.946194  \n",
       "2               0.043999  \n",
       "3              19.023530  \n",
       "4               6.951420  \n",
       "...                  ...  \n",
       "27223           5.687690  \n",
       "27224           3.473669  \n",
       "27225          18.564941  \n",
       "27226           9.814090  \n",
       "27227         525.214368  \n",
       "\n",
       "[27228 rows x 11 columns]"
      ]
     },
     "execution_count": 7,
     "metadata": {},
     "output_type": "execute_result"
    }
   ],
   "source": [
    "outliers = df[df['Cargo Metric TONS'] >= 5000].index\n",
    "df.drop(outliers, inplace=True)\n",
    "# reorganize the indices\n",
    "df.reset_index(drop=True, inplace=True)\n",
    "df"
   ]
  },
  {
   "cell_type": "code",
   "execution_count": 8,
   "id": "e3088433-8acc-4d3b-b1ae-6958e1bd248f",
   "metadata": {},
   "outputs": [
    {
     "data": {
      "image/png": "[encoded data removed]",
      "text/plain": [
       "<Figure size 640x480 with 1 Axes>"
      ]
     },
     "metadata": {},
     "output_type": "display_data"
    }
   ],
   "source": [
    "plt.boxplot(df['Cargo Metric TONS'], vert=False)\n",
    "plt.title(\"Distribution of Cargo Metric Tons\")\n",
    "plt.xlabel(\"Cargo Metric Tons\")\n",
    "plt.show()"
   ]
  },
  {
   "cell_type": "code",
   "execution_count": 9,
   "id": "be0c3c20-8a5d-4f5b-b0c8-a923f6b1a792",
   "metadata": {},
   "outputs": [
    {
     "data": {
      "text/plain": [
       "array(['Sun Country Airlines', 'United Airlines', 'Qantas Airways',\n",
       "       'Philippine Airlines', 'Singapore Airlines',\n",
       "       'Nippon Cargo Airlines', 'Lufthansa German Airlines',\n",
       "       'COPA Airlines, Inc.', 'Alaska Airlines', 'Asiana Airlines',\n",
       "       'Cathay Pacific', 'Korean Air Lines', 'All Nippon Airways',\n",
       "       'Southwest Airlines', 'Air France', 'EVA Airways',\n",
       "       'United Airlines - Pre 07/01/2013',\n",
       "       'Northwest Airlines (became Delta)', 'Aer Lingus',\n",
       "       'TACA International Airlines, S.A.', 'China Southern',\n",
       "       'Air New Zealand', 'Air China', 'SAS Airlines', 'China Eastern',\n",
       "       'Frontier Airlines', 'Horizon Air', 'Emirates', 'JetBlue Airways',\n",
       "       'Kalitta Air', 'Japan Airlines', 'Delta Air Lines', 'French Bee',\n",
       "       'Air Canada', 'Southern Air', 'Compass Airlines',\n",
       "       'British Airways', 'Redding Aero Enterprises',\n",
       "       'Swiss International', 'Etihad Airways',\n",
       "       'KLM Royal Dutch Airlines', 'China Airlines', 'Hawaiian Airlines',\n",
       "       'US Airways', 'American Airlines', 'Virgin Atlantic',\n",
       "       'Federal Express', 'Ameriflight', 'SkyWest Airlines', 'LAN Peru',\n",
       "       'Midwest Airlines', 'ABX Air', 'Air India Limited',\n",
       "       'Tradewinds Airlines', 'Icelandair (Inactive)', 'Air Berlin',\n",
       "       'Iberia', 'ATA Airlines', 'Norwegian Air Shuttle ASA',\n",
       "       'Air Pacific Limited dba Fiji Airways', 'Atlas Air, Inc',\n",
       "       'Astar Air Cargo', 'Turkish Airlines', 'China Cargo Airlines',\n",
       "       'Air Transport International, Inc.', 'Cargolux Airlines',\n",
       "       'Kitty Hawk Air Cargo', 'Air Cargo Carriers',\n",
       "       'Norwegian Air UK Ltd', 'Icelandair EHF', 'Thomas Cook Airlines',\n",
       "       'Focus Air', 'Hong Kong Airlines Limited', 'ASTAR USA, LLC',\n",
       "       'American Eagle Airlines', 'Finnair',\n",
       "       'Total Airport Services, Inc. (Inactive)', 'TAP Air Portugal',\n",
       "       'WOW Air', 'United Parcel Service CO', 'World Airways',\n",
       "       'Jet Airways', 'Evergreen International Airlines',\n",
       "       'Air Italy S.P.A', 'Republic Airlines',\n",
       "       'El Al Israel Airlines LTD.', 'Virgin America', 'Air Canada Jazz',\n",
       "       'Air Transport International, LLC.', 'Aeromexico', 'Swissport USA',\n",
       "       'Mesa Airlines', 'Qatar Airways', 'Mesaba Airlines'], dtype=object)"
      ]
     },
     "execution_count": 9,
     "metadata": {},
     "output_type": "execute_result"
    }
   ],
   "source": [
    "df['Operating Airline'].unique()"
   ]
  },
  {
   "cell_type": "code",
   "execution_count": 10,
   "id": "527078d2-e441-4fc8-a3fb-4fc8e85ced0d",
   "metadata": {},
   "outputs": [
    {
     "data": {
      "text/plain": [
       "array(['Sun Country Airlines', 'United Airlines', 'Qantas Airways',\n",
       "       'Philippine Airlines', 'Singapore Airlines',\n",
       "       'Nippon Cargo Airlines', 'Lufthansa German Airlines',\n",
       "       'COPA Airlines, Inc.', 'Alaska Airlines', 'Asiana Airlines',\n",
       "       'Cathay Pacific', 'Korean Air Lines', 'All Nippon Airways',\n",
       "       'Southwest Airlines', 'Air France', 'EVA Airways',\n",
       "       'United Airlines - Pre 07/01/2013',\n",
       "       'Northwest Airlines (became Delta)', 'Aer Lingus',\n",
       "       'TACA International Airlines, S.A.', 'China Southern',\n",
       "       'Air New Zealand', 'Air China', 'SAS Airlines', 'China Eastern',\n",
       "       'Frontier Airlines', 'Emirates', 'JetBlue Airways', 'Kalitta Air',\n",
       "       'Japan Airlines', 'Delta Air Lines', 'French Bee', 'Air Canada',\n",
       "       'Southern Air', 'American Airlines', 'British Airways',\n",
       "       'Redding Aero Enterprises', 'Swiss International',\n",
       "       'Etihad Airways', 'KLM Royal Dutch Airlines', 'China Airlines',\n",
       "       'Hawaiian Airlines', 'US Airways', 'Virgin Atlantic',\n",
       "       'Federal Express', 'Ameriflight', 'LAN Peru', 'Midwest Airlines',\n",
       "       'ABX Air', 'Air India Limited', 'Tradewinds Airlines',\n",
       "       'Icelandair (Inactive)', 'Air Berlin', 'Iberia', 'ATA Airlines',\n",
       "       'Norwegian Air Shuttle ASA',\n",
       "       'Air Pacific Limited dba Fiji Airways', 'Atlas Air, Inc',\n",
       "       'Astar Air Cargo', 'Turkish Airlines', 'China Cargo Airlines',\n",
       "       'Air Transport International, Inc.', 'Cargolux Airlines',\n",
       "       'Kitty Hawk Air Cargo', 'Air Cargo Carriers',\n",
       "       'Norwegian Air UK Ltd', 'Icelandair EHF', 'Thomas Cook Airlines',\n",
       "       'Focus Air', 'Hong Kong Airlines Limited', 'DHL Express (USA)',\n",
       "       'Finnair', 'Total Airport Services, Inc. (Inactive)',\n",
       "       'TAP Air Portugal', 'WOW Air', 'United Parcel Service CO',\n",
       "       'World Airways', 'Jet Airways', 'Evergreen International Airlines',\n",
       "       'Air Italy S.P.A', 'Republic Airlines',\n",
       "       'El Al Israel Airlines LTD.', 'Virgin America',\n",
       "       'Air Transport International, LLC.', 'Aeromexico', 'Swissport USA',\n",
       "       'Qatar Airways'], dtype=object)"
      ]
     },
     "execution_count": 10,
     "metadata": {},
     "output_type": "execute_result"
    }
   ],
   "source": [
    "df['Published Airline'].unique()"
   ]
  },
  {
   "cell_type": "markdown",
   "id": "d0ff6a18-a768-4b67-88f0-4370c3acc15b",
   "metadata": {},
   "source": [
    "There are a large number of operating and published airlines. While there could be a correlation between airlines and cargo metric tons, it is likely that airlines correlate with other features such as geo region and cargo aircraft type, given their names have \"Cargo\" or a location in them. It would not be worth the effort to encode either, so they will be dropped. There is also the likelihood that test data would have airlines not provided in this training sample."
   ]
  },
  {
   "cell_type": "code",
   "execution_count": 11,
   "id": "cac0dcb8-278b-4938-830e-63bdacc99e23",
   "metadata": {},
   "outputs": [
    {
     "data": {
      "text/plain": [
       "Cargo Aircraft Type\n",
       "Passenger    22679\n",
       "Freighter     4222\n",
       "Combi          327\n",
       "Name: count, dtype: int64"
      ]
     },
     "execution_count": 11,
     "metadata": {},
     "output_type": "execute_result"
    }
   ],
   "source": [
    "df['Cargo Aircraft Type'].value_counts()"
   ]
  },
  {
   "cell_type": "code",
   "execution_count": 12,
   "id": "1591e067-a810-4364-83bd-a6dbe0da93bd",
   "metadata": {},
   "outputs": [
    {
     "data": {
      "text/plain": [
       "Cargo Type Code\n",
       "Cargo      14906\n",
       "Mail        8813\n",
       "Express     3509\n",
       "Name: count, dtype: int64"
      ]
     },
     "execution_count": 12,
     "metadata": {},
     "output_type": "execute_result"
    }
   ],
   "source": [
    "df['Cargo Type Code'].value_counts()"
   ]
  },
  {
   "cell_type": "code",
   "execution_count": 13,
   "id": "37de72a0-ad54-437f-8286-749556d371b1",
   "metadata": {},
   "outputs": [
    {
     "data": {
      "text/plain": [
       "GEO Region\n",
       "Asia                   10081\n",
       "US                      7364\n",
       "Europe                  4669\n",
       "Australia / Oceania     1758\n",
       "Canada                  1467\n",
       "Mexico                   877\n",
       "Middle East              550\n",
       "Central America          385\n",
       "South America             77\n",
       "Name: count, dtype: int64"
      ]
     },
     "execution_count": 13,
     "metadata": {},
     "output_type": "execute_result"
    }
   ],
   "source": [
    "df['GEO Region'].value_counts()"
   ]
  },
  {
   "cell_type": "code",
   "execution_count": 14,
   "id": "e1f3daab-7902-4dec-b571-b2c0f229a303",
   "metadata": {},
   "outputs": [
    {
     "data": {
      "text/plain": [
       "GEO Summary\n",
       "International    19864\n",
       "Domestic          7364\n",
       "Name: count, dtype: int64"
      ]
     },
     "execution_count": 14,
     "metadata": {},
     "output_type": "execute_result"
    }
   ],
   "source": [
    "df['GEO Summary'].value_counts()"
   ]
  },
  {
   "cell_type": "markdown",
   "id": "a62e186c-2eca-4dcf-a1e4-ee4ddedceee4",
   "metadata": {},
   "source": [
    "``GEO Summary`` is a subset of ``GEO Region``, with ``Domestic`` equating to ``US`` and ``International`` to the other regions. Because of this, it is safe to drop ``GEO Summary``."
   ]
  },
  {
   "cell_type": "code",
   "execution_count": 15,
   "id": "a4698bd8-d559-4a5b-88c7-dc48677b51c1",
   "metadata": {},
   "outputs": [
    {
     "data": {
      "text/plain": [
       "Activity Type Code\n",
       "Deplaned    13934\n",
       "Enplaned    13294\n",
       "Name: count, dtype: int64"
      ]
     },
     "execution_count": 15,
     "metadata": {},
     "output_type": "execute_result"
    }
   ],
   "source": [
    "df['Activity Type Code'].value_counts()"
   ]
  },
  {
   "cell_type": "markdown",
   "id": "79266178-73b0-425d-b830-0ad645c30011",
   "metadata": {},
   "source": [
    "Since ``Activity Type Code`` is a binary, it can be replaced by a binary encoding rather than one-hot encoding."
   ]
  },
  {
   "cell_type": "code",
   "execution_count": 16,
   "id": "45e8ffde-c9ab-4c93-afc1-bf824994c730",
   "metadata": {},
   "outputs": [
    {
     "data": {
      "text/plain": [
       "<matplotlib.collections.PathCollection at 0x7fe4a9c29810>"
      ]
     },
     "execution_count": 16,
     "metadata": {},
     "output_type": "execute_result"
    },
    {
     "data": {
      "image/png": "[encoded data removed]",
      "text/plain": [
       "<Figure size 640x480 with 1 Axes>"
      ]
     },
     "metadata": {},
     "output_type": "display_data"
    }
   ],
   "source": [
    "plt.scatter(x=df['Activity Period'], y=df['Cargo Metric TONS'])"
   ]
  },
  {
   "cell_type": "markdown",
   "id": "567e08b7-866c-42b5-9de2-e9b99db5ffca",
   "metadata": {},
   "source": [
    "While there is no linear correlation, there seems to be a curve, suggesting a weak polynomial correlation (ignoring the outliers)."
   ]
  },
  {
   "cell_type": "markdown",
   "id": "fe56356f-cf73-442b-bf6b-b0dde85200f5",
   "metadata": {},
   "source": [
    "Most of the features aren't evenly distributed. Aditionally, they don't follow an ordering scheme, so they will need to be one-hot encoded."
   ]
  },
  {
   "cell_type": "markdown",
   "id": "d9b6b55f-cbc4-46e8-85ea-48b0081f1c69",
   "metadata": {},
   "source": [
    "# Transform Data\n",
    "\n",
    "In order to better apply our transformations to our actual test data, we can put the transformations in a function, and apply the function to the dataframe."
   ]
  },
  {
   "cell_type": "code",
   "execution_count": 17,
   "id": "09a32a01-996d-41c6-8327-60ab924add19",
   "metadata": {},
   "outputs": [],
   "source": [
    "from sklearn.preprocessing import LabelBinarizer\n",
    "\n",
    "def transform_df(dataframe):\n",
    "    dataframe = dataframe.drop(['Operating Airline', 'Operating Airline IATA Code',\n",
    "                                'Published Airline', 'Published Airline IATA Code'],\n",
    "        axis=1)\n",
    "    \n",
    "    encoder = LabelBinarizer()\n",
    "    encoder.fit(dataframe['GEO Region'])\n",
    "    transformed = encoder.transform(dataframe['GEO Region'])\n",
    "    transformed = pd.DataFrame(transformed, columns=encoder.classes_)\n",
    "    dataframe = pd.concat([dataframe, transformed], axis=1)\n",
    "    dataframe.drop(['GEO Summary', 'GEO Region'], inplace=True, axis=1)\n",
    "    \n",
    "    encoder.fit(dataframe['Cargo Type Code'])\n",
    "    transformed = encoder.transform(dataframe['Cargo Type Code'])\n",
    "    transformed = pd.DataFrame(transformed, columns=encoder.classes_)\n",
    "    dataframe = pd.concat([dataframe, transformed], axis=1)\n",
    "    dataframe.drop(['Cargo Type Code'], inplace=True, axis=1)\n",
    "\n",
    "    encoder.fit(dataframe['Cargo Aircraft Type'])\n",
    "    transformed = encoder.transform(dataframe['Cargo Aircraft Type'])\n",
    "    transformed = pd.DataFrame(transformed, columns=encoder.classes_)\n",
    "    dataframe = pd.concat([dataframe, transformed], axis=1)\n",
    "    dataframe.drop(['Cargo Aircraft Type'], inplace=True, axis=1)\n",
    "    \n",
    "    dataframe['Activity Type Code'] = dataframe['Activity Type Code'].map({'Enplaned': 0, 'Deplaned': 1})\n",
    "\n",
    "    return dataframe"
   ]
  },
  {
   "cell_type": "code",
   "execution_count": 18,
   "id": "10ffe64d-d9ab-40a1-a012-faa3cb2a0dd4",
   "metadata": {},
   "outputs": [
    {
     "data": {
      "text/html": [
       "<div>\n",
       "<style scoped>\n",
       "    .dataframe tbody tr th:only-of-type {\n",
       "        vertical-align: middle;\n",
       "    }\n",
       "\n",
       "    .dataframe tbody tr th {\n",
       "        vertical-align: top;\n",
       "    }\n",
       "\n",
       "    .dataframe thead th {\n",
       "        text-align: right;\n",
       "    }\n",
       "</style>\n",
       "<table border=\"1\" class=\"dataframe\">\n",
       "  <thead>\n",
       "    <tr style=\"text-align: right;\">\n",
       "      <th></th>\n",
       "      <th>Activity Period</th>\n",
       "      <th>Activity Type Code</th>\n",
       "      <th>Cargo Metric TONS</th>\n",
       "      <th>Asia</th>\n",
       "      <th>Australia / Oceania</th>\n",
       "      <th>Canada</th>\n",
       "      <th>Central America</th>\n",
       "      <th>Europe</th>\n",
       "      <th>Mexico</th>\n",
       "      <th>Middle East</th>\n",
       "      <th>South America</th>\n",
       "      <th>US</th>\n",
       "      <th>Cargo</th>\n",
       "      <th>Express</th>\n",
       "      <th>Mail</th>\n",
       "      <th>Combi</th>\n",
       "      <th>Freighter</th>\n",
       "      <th>Passenger</th>\n",
       "    </tr>\n",
       "  </thead>\n",
       "  <tbody>\n",
       "    <tr>\n",
       "      <th>0</th>\n",
       "      <td>201601</td>\n",
       "      <td>0</td>\n",
       "      <td>8.871509</td>\n",
       "      <td>0</td>\n",
       "      <td>0</td>\n",
       "      <td>0</td>\n",
       "      <td>0</td>\n",
       "      <td>0</td>\n",
       "      <td>0</td>\n",
       "      <td>0</td>\n",
       "      <td>0</td>\n",
       "      <td>1</td>\n",
       "      <td>1</td>\n",
       "      <td>0</td>\n",
       "      <td>0</td>\n",
       "      <td>0</td>\n",
       "      <td>0</td>\n",
       "      <td>1</td>\n",
       "    </tr>\n",
       "    <tr>\n",
       "      <th>1</th>\n",
       "      <td>200811</td>\n",
       "      <td>1</td>\n",
       "      <td>53.946194</td>\n",
       "      <td>0</td>\n",
       "      <td>0</td>\n",
       "      <td>0</td>\n",
       "      <td>0</td>\n",
       "      <td>0</td>\n",
       "      <td>0</td>\n",
       "      <td>0</td>\n",
       "      <td>0</td>\n",
       "      <td>1</td>\n",
       "      <td>1</td>\n",
       "      <td>0</td>\n",
       "      <td>0</td>\n",
       "      <td>0</td>\n",
       "      <td>0</td>\n",
       "      <td>1</td>\n",
       "    </tr>\n",
       "    <tr>\n",
       "      <th>2</th>\n",
       "      <td>200709</td>\n",
       "      <td>1</td>\n",
       "      <td>0.043999</td>\n",
       "      <td>0</td>\n",
       "      <td>1</td>\n",
       "      <td>0</td>\n",
       "      <td>0</td>\n",
       "      <td>0</td>\n",
       "      <td>0</td>\n",
       "      <td>0</td>\n",
       "      <td>0</td>\n",
       "      <td>0</td>\n",
       "      <td>0</td>\n",
       "      <td>1</td>\n",
       "      <td>0</td>\n",
       "      <td>0</td>\n",
       "      <td>0</td>\n",
       "      <td>1</td>\n",
       "    </tr>\n",
       "    <tr>\n",
       "      <th>3</th>\n",
       "      <td>201608</td>\n",
       "      <td>1</td>\n",
       "      <td>19.023530</td>\n",
       "      <td>1</td>\n",
       "      <td>0</td>\n",
       "      <td>0</td>\n",
       "      <td>0</td>\n",
       "      <td>0</td>\n",
       "      <td>0</td>\n",
       "      <td>0</td>\n",
       "      <td>0</td>\n",
       "      <td>0</td>\n",
       "      <td>0</td>\n",
       "      <td>0</td>\n",
       "      <td>1</td>\n",
       "      <td>0</td>\n",
       "      <td>0</td>\n",
       "      <td>1</td>\n",
       "    </tr>\n",
       "    <tr>\n",
       "      <th>4</th>\n",
       "      <td>201708</td>\n",
       "      <td>1</td>\n",
       "      <td>6.951420</td>\n",
       "      <td>1</td>\n",
       "      <td>0</td>\n",
       "      <td>0</td>\n",
       "      <td>0</td>\n",
       "      <td>0</td>\n",
       "      <td>0</td>\n",
       "      <td>0</td>\n",
       "      <td>0</td>\n",
       "      <td>0</td>\n",
       "      <td>0</td>\n",
       "      <td>1</td>\n",
       "      <td>0</td>\n",
       "      <td>0</td>\n",
       "      <td>0</td>\n",
       "      <td>1</td>\n",
       "    </tr>\n",
       "    <tr>\n",
       "      <th>...</th>\n",
       "      <td>...</td>\n",
       "      <td>...</td>\n",
       "      <td>...</td>\n",
       "      <td>...</td>\n",
       "      <td>...</td>\n",
       "      <td>...</td>\n",
       "      <td>...</td>\n",
       "      <td>...</td>\n",
       "      <td>...</td>\n",
       "      <td>...</td>\n",
       "      <td>...</td>\n",
       "      <td>...</td>\n",
       "      <td>...</td>\n",
       "      <td>...</td>\n",
       "      <td>...</td>\n",
       "      <td>...</td>\n",
       "      <td>...</td>\n",
       "      <td>...</td>\n",
       "    </tr>\n",
       "    <tr>\n",
       "      <th>27223</th>\n",
       "      <td>201108</td>\n",
       "      <td>0</td>\n",
       "      <td>5.687690</td>\n",
       "      <td>0</td>\n",
       "      <td>0</td>\n",
       "      <td>1</td>\n",
       "      <td>0</td>\n",
       "      <td>0</td>\n",
       "      <td>0</td>\n",
       "      <td>0</td>\n",
       "      <td>0</td>\n",
       "      <td>0</td>\n",
       "      <td>0</td>\n",
       "      <td>1</td>\n",
       "      <td>0</td>\n",
       "      <td>0</td>\n",
       "      <td>0</td>\n",
       "      <td>1</td>\n",
       "    </tr>\n",
       "    <tr>\n",
       "      <th>27224</th>\n",
       "      <td>200703</td>\n",
       "      <td>1</td>\n",
       "      <td>3.473669</td>\n",
       "      <td>1</td>\n",
       "      <td>0</td>\n",
       "      <td>0</td>\n",
       "      <td>0</td>\n",
       "      <td>0</td>\n",
       "      <td>0</td>\n",
       "      <td>0</td>\n",
       "      <td>0</td>\n",
       "      <td>0</td>\n",
       "      <td>0</td>\n",
       "      <td>0</td>\n",
       "      <td>1</td>\n",
       "      <td>0</td>\n",
       "      <td>1</td>\n",
       "      <td>0</td>\n",
       "    </tr>\n",
       "    <tr>\n",
       "      <th>27225</th>\n",
       "      <td>201204</td>\n",
       "      <td>1</td>\n",
       "      <td>18.564941</td>\n",
       "      <td>0</td>\n",
       "      <td>0</td>\n",
       "      <td>0</td>\n",
       "      <td>0</td>\n",
       "      <td>0</td>\n",
       "      <td>0</td>\n",
       "      <td>0</td>\n",
       "      <td>0</td>\n",
       "      <td>1</td>\n",
       "      <td>1</td>\n",
       "      <td>0</td>\n",
       "      <td>0</td>\n",
       "      <td>0</td>\n",
       "      <td>0</td>\n",
       "      <td>1</td>\n",
       "    </tr>\n",
       "    <tr>\n",
       "      <th>27226</th>\n",
       "      <td>201005</td>\n",
       "      <td>1</td>\n",
       "      <td>9.814090</td>\n",
       "      <td>0</td>\n",
       "      <td>0</td>\n",
       "      <td>1</td>\n",
       "      <td>0</td>\n",
       "      <td>0</td>\n",
       "      <td>0</td>\n",
       "      <td>0</td>\n",
       "      <td>0</td>\n",
       "      <td>0</td>\n",
       "      <td>1</td>\n",
       "      <td>0</td>\n",
       "      <td>0</td>\n",
       "      <td>0</td>\n",
       "      <td>0</td>\n",
       "      <td>1</td>\n",
       "    </tr>\n",
       "    <tr>\n",
       "      <th>27227</th>\n",
       "      <td>202002</td>\n",
       "      <td>1</td>\n",
       "      <td>525.214368</td>\n",
       "      <td>1</td>\n",
       "      <td>0</td>\n",
       "      <td>0</td>\n",
       "      <td>0</td>\n",
       "      <td>0</td>\n",
       "      <td>0</td>\n",
       "      <td>0</td>\n",
       "      <td>0</td>\n",
       "      <td>0</td>\n",
       "      <td>1</td>\n",
       "      <td>0</td>\n",
       "      <td>0</td>\n",
       "      <td>0</td>\n",
       "      <td>0</td>\n",
       "      <td>1</td>\n",
       "    </tr>\n",
       "  </tbody>\n",
       "</table>\n",
       "<p>27228 rows × 18 columns</p>\n",
       "</div>"
      ],
      "text/plain": [
       "       Activity Period  Activity Type Code  Cargo Metric TONS  Asia  \\\n",
       "0               201601                   0           8.871509     0   \n",
       "1               200811                   1          53.946194     0   \n",
       "2               200709                   1           0.043999     0   \n",
       "3               201608                   1          19.023530     1   \n",
       "4               201708                   1           6.951420     1   \n",
       "...                ...                 ...                ...   ...   \n",
       "27223           201108                   0           5.687690     0   \n",
       "27224           200703                   1           3.473669     1   \n",
       "27225           201204                   1          18.564941     0   \n",
       "27226           201005                   1           9.814090     0   \n",
       "27227           202002                   1         525.214368     1   \n",
       "\n",
       "       Australia / Oceania  Canada  Central America  Europe  Mexico  \\\n",
       "0                        0       0                0       0       0   \n",
       "1                        0       0                0       0       0   \n",
       "2                        1       0                0       0       0   \n",
       "3                        0       0                0       0       0   \n",
       "4                        0       0                0       0       0   \n",
       "...                    ...     ...              ...     ...     ...   \n",
       "27223                    0       1                0       0       0   \n",
       "27224                    0       0                0       0       0   \n",
       "27225                    0       0                0       0       0   \n",
       "27226                    0       1                0       0       0   \n",
       "27227                    0       0                0       0       0   \n",
       "\n",
       "       Middle East  South America  US  Cargo  Express  Mail  Combi  Freighter  \\\n",
       "0                0              0   1      1        0     0      0          0   \n",
       "1                0              0   1      1        0     0      0          0   \n",
       "2                0              0   0      0        1     0      0          0   \n",
       "3                0              0   0      0        0     1      0          0   \n",
       "4                0              0   0      0        1     0      0          0   \n",
       "...            ...            ...  ..    ...      ...   ...    ...        ...   \n",
       "27223            0              0   0      0        1     0      0          0   \n",
       "27224            0              0   0      0        0     1      0          1   \n",
       "27225            0              0   1      1        0     0      0          0   \n",
       "27226            0              0   0      1        0     0      0          0   \n",
       "27227            0              0   0      1        0     0      0          0   \n",
       "\n",
       "       Passenger  \n",
       "0              1  \n",
       "1              1  \n",
       "2              1  \n",
       "3              1  \n",
       "4              1  \n",
       "...          ...  \n",
       "27223          1  \n",
       "27224          0  \n",
       "27225          1  \n",
       "27226          1  \n",
       "27227          1  \n",
       "\n",
       "[27228 rows x 18 columns]"
      ]
     },
     "execution_count": 18,
     "metadata": {},
     "output_type": "execute_result"
    }
   ],
   "source": [
    "df = transform_df(df)\n",
    "df"
   ]
  },
  {
   "cell_type": "code",
   "execution_count": 19,
   "id": "23162a02-c744-463a-912f-b458c4c6edf1",
   "metadata": {},
   "outputs": [
    {
     "data": {
      "text/html": [
       "<div>\n",
       "<style scoped>\n",
       "    .dataframe tbody tr th:only-of-type {\n",
       "        vertical-align: middle;\n",
       "    }\n",
       "\n",
       "    .dataframe tbody tr th {\n",
       "        vertical-align: top;\n",
       "    }\n",
       "\n",
       "    .dataframe thead th {\n",
       "        text-align: right;\n",
       "    }\n",
       "</style>\n",
       "<table border=\"1\" class=\"dataframe\">\n",
       "  <thead>\n",
       "    <tr style=\"text-align: right;\">\n",
       "      <th></th>\n",
       "      <th>Cargo Metric TONS</th>\n",
       "      <th>Activity Period</th>\n",
       "      <th>Activity Type Code</th>\n",
       "      <th>Asia</th>\n",
       "      <th>Australia / Oceania</th>\n",
       "      <th>Canada</th>\n",
       "      <th>Central America</th>\n",
       "      <th>Europe</th>\n",
       "      <th>Mexico</th>\n",
       "      <th>Middle East</th>\n",
       "      <th>South America</th>\n",
       "      <th>US</th>\n",
       "      <th>Cargo</th>\n",
       "      <th>Express</th>\n",
       "      <th>Mail</th>\n",
       "      <th>Combi</th>\n",
       "      <th>Freighter</th>\n",
       "      <th>Passenger</th>\n",
       "    </tr>\n",
       "  </thead>\n",
       "  <tbody>\n",
       "    <tr>\n",
       "      <th>0</th>\n",
       "      <td>8.871509</td>\n",
       "      <td>201601</td>\n",
       "      <td>0</td>\n",
       "      <td>0</td>\n",
       "      <td>0</td>\n",
       "      <td>0</td>\n",
       "      <td>0</td>\n",
       "      <td>0</td>\n",
       "      <td>0</td>\n",
       "      <td>0</td>\n",
       "      <td>0</td>\n",
       "      <td>1</td>\n",
       "      <td>1</td>\n",
       "      <td>0</td>\n",
       "      <td>0</td>\n",
       "      <td>0</td>\n",
       "      <td>0</td>\n",
       "      <td>1</td>\n",
       "    </tr>\n",
       "    <tr>\n",
       "      <th>1</th>\n",
       "      <td>53.946194</td>\n",
       "      <td>200811</td>\n",
       "      <td>1</td>\n",
       "      <td>0</td>\n",
       "      <td>0</td>\n",
       "      <td>0</td>\n",
       "      <td>0</td>\n",
       "      <td>0</td>\n",
       "      <td>0</td>\n",
       "      <td>0</td>\n",
       "      <td>0</td>\n",
       "      <td>1</td>\n",
       "      <td>1</td>\n",
       "      <td>0</td>\n",
       "      <td>0</td>\n",
       "      <td>0</td>\n",
       "      <td>0</td>\n",
       "      <td>1</td>\n",
       "    </tr>\n",
       "    <tr>\n",
       "      <th>2</th>\n",
       "      <td>0.043999</td>\n",
       "      <td>200709</td>\n",
       "      <td>1</td>\n",
       "      <td>0</td>\n",
       "      <td>1</td>\n",
       "      <td>0</td>\n",
       "      <td>0</td>\n",
       "      <td>0</td>\n",
       "      <td>0</td>\n",
       "      <td>0</td>\n",
       "      <td>0</td>\n",
       "      <td>0</td>\n",
       "      <td>0</td>\n",
       "      <td>1</td>\n",
       "      <td>0</td>\n",
       "      <td>0</td>\n",
       "      <td>0</td>\n",
       "      <td>1</td>\n",
       "    </tr>\n",
       "    <tr>\n",
       "      <th>3</th>\n",
       "      <td>19.023530</td>\n",
       "      <td>201608</td>\n",
       "      <td>1</td>\n",
       "      <td>1</td>\n",
       "      <td>0</td>\n",
       "      <td>0</td>\n",
       "      <td>0</td>\n",
       "      <td>0</td>\n",
       "      <td>0</td>\n",
       "      <td>0</td>\n",
       "      <td>0</td>\n",
       "      <td>0</td>\n",
       "      <td>0</td>\n",
       "      <td>0</td>\n",
       "      <td>1</td>\n",
       "      <td>0</td>\n",
       "      <td>0</td>\n",
       "      <td>1</td>\n",
       "    </tr>\n",
       "    <tr>\n",
       "      <th>4</th>\n",
       "      <td>6.951420</td>\n",
       "      <td>201708</td>\n",
       "      <td>1</td>\n",
       "      <td>1</td>\n",
       "      <td>0</td>\n",
       "      <td>0</td>\n",
       "      <td>0</td>\n",
       "      <td>0</td>\n",
       "      <td>0</td>\n",
       "      <td>0</td>\n",
       "      <td>0</td>\n",
       "      <td>0</td>\n",
       "      <td>0</td>\n",
       "      <td>1</td>\n",
       "      <td>0</td>\n",
       "      <td>0</td>\n",
       "      <td>0</td>\n",
       "      <td>1</td>\n",
       "    </tr>\n",
       "    <tr>\n",
       "      <th>...</th>\n",
       "      <td>...</td>\n",
       "      <td>...</td>\n",
       "      <td>...</td>\n",
       "      <td>...</td>\n",
       "      <td>...</td>\n",
       "      <td>...</td>\n",
       "      <td>...</td>\n",
       "      <td>...</td>\n",
       "      <td>...</td>\n",
       "      <td>...</td>\n",
       "      <td>...</td>\n",
       "      <td>...</td>\n",
       "      <td>...</td>\n",
       "      <td>...</td>\n",
       "      <td>...</td>\n",
       "      <td>...</td>\n",
       "      <td>...</td>\n",
       "      <td>...</td>\n",
       "    </tr>\n",
       "    <tr>\n",
       "      <th>27223</th>\n",
       "      <td>5.687690</td>\n",
       "      <td>201108</td>\n",
       "      <td>0</td>\n",
       "      <td>0</td>\n",
       "      <td>0</td>\n",
       "      <td>1</td>\n",
       "      <td>0</td>\n",
       "      <td>0</td>\n",
       "      <td>0</td>\n",
       "      <td>0</td>\n",
       "      <td>0</td>\n",
       "      <td>0</td>\n",
       "      <td>0</td>\n",
       "      <td>1</td>\n",
       "      <td>0</td>\n",
       "      <td>0</td>\n",
       "      <td>0</td>\n",
       "      <td>1</td>\n",
       "    </tr>\n",
       "    <tr>\n",
       "      <th>27224</th>\n",
       "      <td>3.473669</td>\n",
       "      <td>200703</td>\n",
       "      <td>1</td>\n",
       "      <td>1</td>\n",
       "      <td>0</td>\n",
       "      <td>0</td>\n",
       "      <td>0</td>\n",
       "      <td>0</td>\n",
       "      <td>0</td>\n",
       "      <td>0</td>\n",
       "      <td>0</td>\n",
       "      <td>0</td>\n",
       "      <td>0</td>\n",
       "      <td>0</td>\n",
       "      <td>1</td>\n",
       "      <td>0</td>\n",
       "      <td>1</td>\n",
       "      <td>0</td>\n",
       "    </tr>\n",
       "    <tr>\n",
       "      <th>27225</th>\n",
       "      <td>18.564941</td>\n",
       "      <td>201204</td>\n",
       "      <td>1</td>\n",
       "      <td>0</td>\n",
       "      <td>0</td>\n",
       "      <td>0</td>\n",
       "      <td>0</td>\n",
       "      <td>0</td>\n",
       "      <td>0</td>\n",
       "      <td>0</td>\n",
       "      <td>0</td>\n",
       "      <td>1</td>\n",
       "      <td>1</td>\n",
       "      <td>0</td>\n",
       "      <td>0</td>\n",
       "      <td>0</td>\n",
       "      <td>0</td>\n",
       "      <td>1</td>\n",
       "    </tr>\n",
       "    <tr>\n",
       "      <th>27226</th>\n",
       "      <td>9.814090</td>\n",
       "      <td>201005</td>\n",
       "      <td>1</td>\n",
       "      <td>0</td>\n",
       "      <td>0</td>\n",
       "      <td>1</td>\n",
       "      <td>0</td>\n",
       "      <td>0</td>\n",
       "      <td>0</td>\n",
       "      <td>0</td>\n",
       "      <td>0</td>\n",
       "      <td>0</td>\n",
       "      <td>1</td>\n",
       "      <td>0</td>\n",
       "      <td>0</td>\n",
       "      <td>0</td>\n",
       "      <td>0</td>\n",
       "      <td>1</td>\n",
       "    </tr>\n",
       "    <tr>\n",
       "      <th>27227</th>\n",
       "      <td>525.214368</td>\n",
       "      <td>202002</td>\n",
       "      <td>1</td>\n",
       "      <td>1</td>\n",
       "      <td>0</td>\n",
       "      <td>0</td>\n",
       "      <td>0</td>\n",
       "      <td>0</td>\n",
       "      <td>0</td>\n",
       "      <td>0</td>\n",
       "      <td>0</td>\n",
       "      <td>0</td>\n",
       "      <td>1</td>\n",
       "      <td>0</td>\n",
       "      <td>0</td>\n",
       "      <td>0</td>\n",
       "      <td>0</td>\n",
       "      <td>1</td>\n",
       "    </tr>\n",
       "  </tbody>\n",
       "</table>\n",
       "<p>27228 rows × 18 columns</p>\n",
       "</div>"
      ],
      "text/plain": [
       "       Cargo Metric TONS  Activity Period  Activity Type Code  Asia  \\\n",
       "0               8.871509           201601                   0     0   \n",
       "1              53.946194           200811                   1     0   \n",
       "2               0.043999           200709                   1     0   \n",
       "3              19.023530           201608                   1     1   \n",
       "4               6.951420           201708                   1     1   \n",
       "...                  ...              ...                 ...   ...   \n",
       "27223           5.687690           201108                   0     0   \n",
       "27224           3.473669           200703                   1     1   \n",
       "27225          18.564941           201204                   1     0   \n",
       "27226           9.814090           201005                   1     0   \n",
       "27227         525.214368           202002                   1     1   \n",
       "\n",
       "       Australia / Oceania  Canada  Central America  Europe  Mexico  \\\n",
       "0                        0       0                0       0       0   \n",
       "1                        0       0                0       0       0   \n",
       "2                        1       0                0       0       0   \n",
       "3                        0       0                0       0       0   \n",
       "4                        0       0                0       0       0   \n",
       "...                    ...     ...              ...     ...     ...   \n",
       "27223                    0       1                0       0       0   \n",
       "27224                    0       0                0       0       0   \n",
       "27225                    0       0                0       0       0   \n",
       "27226                    0       1                0       0       0   \n",
       "27227                    0       0                0       0       0   \n",
       "\n",
       "       Middle East  South America  US  Cargo  Express  Mail  Combi  Freighter  \\\n",
       "0                0              0   1      1        0     0      0          0   \n",
       "1                0              0   1      1        0     0      0          0   \n",
       "2                0              0   0      0        1     0      0          0   \n",
       "3                0              0   0      0        0     1      0          0   \n",
       "4                0              0   0      0        1     0      0          0   \n",
       "...            ...            ...  ..    ...      ...   ...    ...        ...   \n",
       "27223            0              0   0      0        1     0      0          0   \n",
       "27224            0              0   0      0        0     1      0          1   \n",
       "27225            0              0   1      1        0     0      0          0   \n",
       "27226            0              0   0      1        0     0      0          0   \n",
       "27227            0              0   0      1        0     0      0          0   \n",
       "\n",
       "       Passenger  \n",
       "0              1  \n",
       "1              1  \n",
       "2              1  \n",
       "3              1  \n",
       "4              1  \n",
       "...          ...  \n",
       "27223          1  \n",
       "27224          0  \n",
       "27225          1  \n",
       "27226          1  \n",
       "27227          1  \n",
       "\n",
       "[27228 rows x 18 columns]"
      ]
     },
     "execution_count": 19,
     "metadata": {},
     "output_type": "execute_result"
    }
   ],
   "source": [
    "# Move target column to the front to make splitting easier\n",
    "y = df.pop('Cargo Metric TONS')\n",
    "df.insert(0, 'Cargo Metric TONS', y)\n",
    "df"
   ]
  },
  {
   "cell_type": "code",
   "execution_count": 20,
   "id": "847df535-feb8-4c19-9162-24664c3eb3bb",
   "metadata": {},
   "outputs": [
    {
     "name": "stdout",
     "output_type": "stream",
     "text": [
      "<class 'pandas.core.frame.DataFrame'>\n",
      "RangeIndex: 27228 entries, 0 to 27227\n",
      "Data columns (total 18 columns):\n",
      " #   Column               Non-Null Count  Dtype  \n",
      "---  ------               --------------  -----  \n",
      " 0   Cargo Metric TONS    27228 non-null  float64\n",
      " 1   Activity Period      27228 non-null  int64  \n",
      " 2   Activity Type Code   27228 non-null  int64  \n",
      " 3   Asia                 27228 non-null  int64  \n",
      " 4   Australia / Oceania  27228 non-null  int64  \n",
      " 5   Canada               27228 non-null  int64  \n",
      " 6   Central America      27228 non-null  int64  \n",
      " 7   Europe               27228 non-null  int64  \n",
      " 8   Mexico               27228 non-null  int64  \n",
      " 9   Middle East          27228 non-null  int64  \n",
      " 10  South America        27228 non-null  int64  \n",
      " 11  US                   27228 non-null  int64  \n",
      " 12  Cargo                27228 non-null  int64  \n",
      " 13  Express              27228 non-null  int64  \n",
      " 14  Mail                 27228 non-null  int64  \n",
      " 15  Combi                27228 non-null  int64  \n",
      " 16  Freighter            27228 non-null  int64  \n",
      " 17  Passenger            27228 non-null  int64  \n",
      "dtypes: float64(1), int64(17)\n",
      "memory usage: 3.7 MB\n"
     ]
    }
   ],
   "source": [
    "df.info()"
   ]
  },
  {
   "cell_type": "markdown",
   "id": "dd36ba42-e35b-4631-8ace-8bf337988d12",
   "metadata": {},
   "source": [
    "# Models\n",
    "\n",
    "Since we know the target (Cargo Metric Tons) and the target is continuous numerical data, linear regression or polynomial regression would be the best model to use. We are looking to see how a set of features affects the target, or if there happens to be a correlation between them. Ridge and LASSO would also work in this scenario, so we can compare the results of each model to see which produces the best results.\n",
    "\n",
    "Due to the target being continuous data, the metric to compare models will be root mean squared error. It will provide an approximation on how off our model is from the actual ... ."
   ]
  },
  {
   "cell_type": "markdown",
   "id": "e108fc9c-e9e7-4d43-8554-a3504560bc5e",
   "metadata": {},
   "source": [
    "## Linear Regression Mode"
   ]
  },
  {
   "cell_type": "code",
   "execution_count": 21,
   "id": "e425c63c-db95-4d88-ae98-c1431ede79d6",
   "metadata": {},
   "outputs": [
    {
     "data": {
      "text/plain": [
       "13912     602.136763\n",
       "25024      64.821708\n",
       "26802    1055.730866\n",
       "15428      73.437840\n",
       "10855     145.672279\n",
       "            ...     \n",
       "21575     499.878540\n",
       "5390      106.685359\n",
       "860        66.431534\n",
       "15795       5.974366\n",
       "23654       3.285425\n",
       "Name: Cargo Metric TONS, Length: 21782, dtype: float64"
      ]
     },
     "execution_count": 21,
     "metadata": {},
     "output_type": "execute_result"
    }
   ],
   "source": [
    "from sklearn.model_selection import train_test_split\n",
    "\n",
    "train_x, test_x, train_y, test_y = train_test_split(df.iloc[:,1:], df.iloc[:,0], test_size=0.2, random_state=42)\n",
    "train_y"
   ]
  },
  {
   "cell_type": "code",
   "execution_count": 22,
   "id": "02300cf5-3694-482b-a40c-5fe83bb04218",
   "metadata": {},
   "outputs": [
    {
     "data": {
      "text/html": [
       "<style>#sk-container-id-1 {color: black;}#sk-container-id-1 pre{padding: 0;}#sk-container-id-1 div.sk-toggleable {background-color: white;}#sk-container-id-1 label.sk-toggleable__label {cursor: pointer;display: block;width: 100%;margin-bottom: 0;padding: 0.3em;box-sizing: border-box;text-align: center;}#sk-container-id-1 label.sk-toggleable__label-arrow:before {content: \"▸\";float: left;margin-right: 0.25em;color: #696969;}#sk-container-id-1 label.sk-toggleable__label-arrow:hover:before {color: black;}#sk-container-id-1 div.sk-estimator:hover label.sk-toggleable__label-arrow:before {color: black;}#sk-container-id-1 div.sk-toggleable__content {max-height: 0;max-width: 0;overflow: hidden;text-align: left;background-color: #f0f8ff;}#sk-container-id-1 div.sk-toggleable__content pre {margin: 0.2em;color: black;border-radius: 0.25em;background-color: #f0f8ff;}#sk-container-id-1 input.sk-toggleable__control:checked~div.sk-toggleable__content {max-height: 200px;max-width: 100%;overflow: auto;}#sk-container-id-1 input.sk-toggleable__control:checked~label.sk-toggleable__label-arrow:before {content: \"▾\";}#sk-container-id-1 div.sk-estimator input.sk-toggleable__control:checked~label.sk-toggleable__label {background-color: #d4ebff;}#sk-container-id-1 div.sk-label input.sk-toggleable__control:checked~label.sk-toggleable__label {background-color: #d4ebff;}#sk-container-id-1 input.sk-hidden--visually {border: 0;clip: rect(1px 1px 1px 1px);clip: rect(1px, 1px, 1px, 1px);height: 1px;margin: -1px;overflow: hidden;padding: 0;position: absolute;width: 1px;}#sk-container-id-1 div.sk-estimator {font-family: monospace;background-color: #f0f8ff;border: 1px dotted black;border-radius: 0.25em;box-sizing: border-box;margin-bottom: 0.5em;}#sk-container-id-1 div.sk-estimator:hover {background-color: #d4ebff;}#sk-container-id-1 div.sk-parallel-item::after {content: \"\";width: 100%;border-bottom: 1px solid gray;flex-grow: 1;}#sk-container-id-1 div.sk-label:hover label.sk-toggleable__label {background-color: #d4ebff;}#sk-container-id-1 div.sk-serial::before {content: \"\";position: absolute;border-left: 1px solid gray;box-sizing: border-box;top: 0;bottom: 0;left: 50%;z-index: 0;}#sk-container-id-1 div.sk-serial {display: flex;flex-direction: column;align-items: center;background-color: white;padding-right: 0.2em;padding-left: 0.2em;position: relative;}#sk-container-id-1 div.sk-item {position: relative;z-index: 1;}#sk-container-id-1 div.sk-parallel {display: flex;align-items: stretch;justify-content: center;background-color: white;position: relative;}#sk-container-id-1 div.sk-item::before, #sk-container-id-1 div.sk-parallel-item::before {content: \"\";position: absolute;border-left: 1px solid gray;box-sizing: border-box;top: 0;bottom: 0;left: 50%;z-index: -1;}#sk-container-id-1 div.sk-parallel-item {display: flex;flex-direction: column;z-index: 1;position: relative;background-color: white;}#sk-container-id-1 div.sk-parallel-item:first-child::after {align-self: flex-end;width: 50%;}#sk-container-id-1 div.sk-parallel-item:last-child::after {align-self: flex-start;width: 50%;}#sk-container-id-1 div.sk-parallel-item:only-child::after {width: 0;}#sk-container-id-1 div.sk-dashed-wrapped {border: 1px dashed gray;margin: 0 0.4em 0.5em 0.4em;box-sizing: border-box;padding-bottom: 0.4em;background-color: white;}#sk-container-id-1 div.sk-label label {font-family: monospace;font-weight: bold;display: inline-block;line-height: 1.2em;}#sk-container-id-1 div.sk-label-container {text-align: center;}#sk-container-id-1 div.sk-container {/* jupyter's `normalize.less` sets `[hidden] { display: none; }` but bootstrap.min.css set `[hidden] { display: none !important; }` so we also need the `!important` here to be able to override the default hidden behavior on the sphinx rendered scikit-learn.org. See: https://github.com/scikit-learn/scikit-learn/issues/21755 */display: inline-block !important;position: relative;}#sk-container-id-1 div.sk-text-repr-fallback {display: none;}</style><div id=\"sk-container-id-1\" class=\"sk-top-container\"><div class=\"sk-text-repr-fallback\"><pre>LinearRegression()</pre><b>In a Jupyter environment, please rerun this cell to show the HTML representation or trust the notebook. <br />On GitHub, the HTML representation is unable to render, please try loading this page with nbviewer.org.</b></div><div class=\"sk-container\" hidden><div class=\"sk-item\"><div class=\"sk-estimator sk-toggleable\"><input class=\"sk-toggleable__control sk-hidden--visually\" id=\"sk-estimator-id-1\" type=\"checkbox\" checked><label for=\"sk-estimator-id-1\" class=\"sk-toggleable__label sk-toggleable__label-arrow\">LinearRegression</label><div class=\"sk-toggleable__content\"><pre>LinearRegression()</pre></div></div></div></div></div>"
      ],
      "text/plain": [
       "LinearRegression()"
      ]
     },
     "execution_count": 22,
     "metadata": {},
     "output_type": "execute_result"
    }
   ],
   "source": [
    "from sklearn.linear_model import LinearRegression\n",
    "\n",
    "reg_lr = LinearRegression()\n",
    "reg_lr.fit(train_x, train_y)"
   ]
  },
  {
   "cell_type": "code",
   "execution_count": 23,
   "id": "2033d493-8881-44de-8c53-7cf60ee98662",
   "metadata": {},
   "outputs": [
    {
     "data": {
      "text/plain": [
       "401.35350381367454"
      ]
     },
     "execution_count": 23,
     "metadata": {},
     "output_type": "execute_result"
    }
   ],
   "source": [
    "from sklearn.metrics import mean_squared_error\n",
    "\n",
    "pred_lr= reg_lr.predict(test_x)\n",
    "mse_lr = mean_squared_error(test_y, pred_lr)\n",
    "np.sqrt(mse_lr)"
   ]
  },
  {
   "cell_type": "code",
   "execution_count": 24,
   "id": "237e0c9c-2f76-498c-b5ac-041344672930",
   "metadata": {},
   "outputs": [
    {
     "data": {
      "image/png": "[encoded data removed]",
      "text/plain": [
       "<Figure size 640x480 with 1 Axes>"
      ]
     },
     "metadata": {},
     "output_type": "display_data"
    }
   ],
   "source": [
    "plt.scatter(x=test_y, y=pred_lr)\n",
    "plt.title(\"Actual value vs Predicted value (Linear Regression)\")\n",
    "plt.xlabel(\"Actual value\")\n",
    "plt.ylabel(\"Predicted value\")\n",
    "plt.show()"
   ]
  },
  {
   "cell_type": "markdown",
   "id": "b1c9f919-24ea-4e09-840d-e9149ec07428",
   "metadata": {},
   "source": [
    "## Ridge model\n",
    "\n",
    "For both ridge and LASSO, we'll use GridSearchCV to determine the best alpha value"
   ]
  },
  {
   "cell_type": "code",
   "execution_count": 25,
   "id": "84596346-06d4-4668-a638-b47b7ec88e41",
   "metadata": {},
   "outputs": [
    {
     "data": {
      "text/html": [
       "<style>#sk-container-id-2 {color: black;}#sk-container-id-2 pre{padding: 0;}#sk-container-id-2 div.sk-toggleable {background-color: white;}#sk-container-id-2 label.sk-toggleable__label {cursor: pointer;display: block;width: 100%;margin-bottom: 0;padding: 0.3em;box-sizing: border-box;text-align: center;}#sk-container-id-2 label.sk-toggleable__label-arrow:before {content: \"▸\";float: left;margin-right: 0.25em;color: #696969;}#sk-container-id-2 label.sk-toggleable__label-arrow:hover:before {color: black;}#sk-container-id-2 div.sk-estimator:hover label.sk-toggleable__label-arrow:before {color: black;}#sk-container-id-2 div.sk-toggleable__content {max-height: 0;max-width: 0;overflow: hidden;text-align: left;background-color: #f0f8ff;}#sk-container-id-2 div.sk-toggleable__content pre {margin: 0.2em;color: black;border-radius: 0.25em;background-color: #f0f8ff;}#sk-container-id-2 input.sk-toggleable__control:checked~div.sk-toggleable__content {max-height: 200px;max-width: 100%;overflow: auto;}#sk-container-id-2 input.sk-toggleable__control:checked~label.sk-toggleable__label-arrow:before {content: \"▾\";}#sk-container-id-2 div.sk-estimator input.sk-toggleable__control:checked~label.sk-toggleable__label {background-color: #d4ebff;}#sk-container-id-2 div.sk-label input.sk-toggleable__control:checked~label.sk-toggleable__label {background-color: #d4ebff;}#sk-container-id-2 input.sk-hidden--visually {border: 0;clip: rect(1px 1px 1px 1px);clip: rect(1px, 1px, 1px, 1px);height: 1px;margin: -1px;overflow: hidden;padding: 0;position: absolute;width: 1px;}#sk-container-id-2 div.sk-estimator {font-family: monospace;background-color: #f0f8ff;border: 1px dotted black;border-radius: 0.25em;box-sizing: border-box;margin-bottom: 0.5em;}#sk-container-id-2 div.sk-estimator:hover {background-color: #d4ebff;}#sk-container-id-2 div.sk-parallel-item::after {content: \"\";width: 100%;border-bottom: 1px solid gray;flex-grow: 1;}#sk-container-id-2 div.sk-label:hover label.sk-toggleable__label {background-color: #d4ebff;}#sk-container-id-2 div.sk-serial::before {content: \"\";position: absolute;border-left: 1px solid gray;box-sizing: border-box;top: 0;bottom: 0;left: 50%;z-index: 0;}#sk-container-id-2 div.sk-serial {display: flex;flex-direction: column;align-items: center;background-color: white;padding-right: 0.2em;padding-left: 0.2em;position: relative;}#sk-container-id-2 div.sk-item {position: relative;z-index: 1;}#sk-container-id-2 div.sk-parallel {display: flex;align-items: stretch;justify-content: center;background-color: white;position: relative;}#sk-container-id-2 div.sk-item::before, #sk-container-id-2 div.sk-parallel-item::before {content: \"\";position: absolute;border-left: 1px solid gray;box-sizing: border-box;top: 0;bottom: 0;left: 50%;z-index: -1;}#sk-container-id-2 div.sk-parallel-item {display: flex;flex-direction: column;z-index: 1;position: relative;background-color: white;}#sk-container-id-2 div.sk-parallel-item:first-child::after {align-self: flex-end;width: 50%;}#sk-container-id-2 div.sk-parallel-item:last-child::after {align-self: flex-start;width: 50%;}#sk-container-id-2 div.sk-parallel-item:only-child::after {width: 0;}#sk-container-id-2 div.sk-dashed-wrapped {border: 1px dashed gray;margin: 0 0.4em 0.5em 0.4em;box-sizing: border-box;padding-bottom: 0.4em;background-color: white;}#sk-container-id-2 div.sk-label label {font-family: monospace;font-weight: bold;display: inline-block;line-height: 1.2em;}#sk-container-id-2 div.sk-label-container {text-align: center;}#sk-container-id-2 div.sk-container {/* jupyter's `normalize.less` sets `[hidden] { display: none; }` but bootstrap.min.css set `[hidden] { display: none !important; }` so we also need the `!important` here to be able to override the default hidden behavior on the sphinx rendered scikit-learn.org. See: https://github.com/scikit-learn/scikit-learn/issues/21755 */display: inline-block !important;position: relative;}#sk-container-id-2 div.sk-text-repr-fallback {display: none;}</style><div id=\"sk-container-id-2\" class=\"sk-top-container\"><div class=\"sk-text-repr-fallback\"><pre>GridSearchCV(estimator=Ridge(),\n",
       "             param_grid={&#x27;alpha&#x27;: [1, 2, 3, 4, 5, 6, 7, 8, 9, 10]},\n",
       "             scoring=&#x27;neg_mean_squared_error&#x27;)</pre><b>In a Jupyter environment, please rerun this cell to show the HTML representation or trust the notebook. <br />On GitHub, the HTML representation is unable to render, please try loading this page with nbviewer.org.</b></div><div class=\"sk-container\" hidden><div class=\"sk-item sk-dashed-wrapped\"><div class=\"sk-label-container\"><div class=\"sk-label sk-toggleable\"><input class=\"sk-toggleable__control sk-hidden--visually\" id=\"sk-estimator-id-2\" type=\"checkbox\" ><label for=\"sk-estimator-id-2\" class=\"sk-toggleable__label sk-toggleable__label-arrow\">GridSearchCV</label><div class=\"sk-toggleable__content\"><pre>GridSearchCV(estimator=Ridge(),\n",
       "             param_grid={&#x27;alpha&#x27;: [1, 2, 3, 4, 5, 6, 7, 8, 9, 10]},\n",
       "             scoring=&#x27;neg_mean_squared_error&#x27;)</pre></div></div></div><div class=\"sk-parallel\"><div class=\"sk-parallel-item\"><div class=\"sk-item\"><div class=\"sk-label-container\"><div class=\"sk-label sk-toggleable\"><input class=\"sk-toggleable__control sk-hidden--visually\" id=\"sk-estimator-id-3\" type=\"checkbox\" ><label for=\"sk-estimator-id-3\" class=\"sk-toggleable__label sk-toggleable__label-arrow\">estimator: Ridge</label><div class=\"sk-toggleable__content\"><pre>Ridge()</pre></div></div></div><div class=\"sk-serial\"><div class=\"sk-item\"><div class=\"sk-estimator sk-toggleable\"><input class=\"sk-toggleable__control sk-hidden--visually\" id=\"sk-estimator-id-4\" type=\"checkbox\" ><label for=\"sk-estimator-id-4\" class=\"sk-toggleable__label sk-toggleable__label-arrow\">Ridge</label><div class=\"sk-toggleable__content\"><pre>Ridge()</pre></div></div></div></div></div></div></div></div></div></div>"
      ],
      "text/plain": [
       "GridSearchCV(estimator=Ridge(),\n",
       "             param_grid={'alpha': [1, 2, 3, 4, 5, 6, 7, 8, 9, 10]},\n",
       "             scoring='neg_mean_squared_error')"
      ]
     },
     "execution_count": 25,
     "metadata": {},
     "output_type": "execute_result"
    }
   ],
   "source": [
    "from sklearn.linear_model import Ridge\n",
    "from sklearn.model_selection import GridSearchCV\n",
    "\n",
    "param = {'alpha': [1, 2, 3, 4, 5, 6, 7, 8, 9, 10]}\n",
    "ridge = Ridge()\n",
    "reg_ridge = GridSearchCV(ridge, param, scoring='neg_mean_squared_error')\n",
    "reg_ridge.fit(train_x, train_y)"
   ]
  },
  {
   "cell_type": "code",
   "execution_count": 26,
   "id": "a28a868f-ca66-4df9-818c-467897ac94c0",
   "metadata": {},
   "outputs": [
    {
     "data": {
      "text/plain": [
       "{'alpha': 6}"
      ]
     },
     "execution_count": 26,
     "metadata": {},
     "output_type": "execute_result"
    }
   ],
   "source": [
    "reg_ridge.best_params_"
   ]
  },
  {
   "cell_type": "code",
   "execution_count": 27,
   "id": "7dc9b209-93a0-4cb6-8592-ddc6e3ca840c",
   "metadata": {},
   "outputs": [
    {
     "data": {
      "text/plain": [
       "401.3579018669645"
      ]
     },
     "execution_count": 27,
     "metadata": {},
     "output_type": "execute_result"
    }
   ],
   "source": [
    "pred_ridge= reg_ridge.predict(test_x)\n",
    "mse = mean_squared_error(test_y, pred_ridge)\n",
    "np.sqrt(mse)"
   ]
  },
  {
   "cell_type": "code",
   "execution_count": 28,
   "id": "b772db00-1f93-4fdd-8b2b-e336f8356bb6",
   "metadata": {},
   "outputs": [
    {
     "data": {
      "image/png": "[encoded data removed]",
      "text/plain": [
       "<Figure size 640x480 with 1 Axes>"
      ]
     },
     "metadata": {},
     "output_type": "display_data"
    }
   ],
   "source": [
    "plt.scatter(x=test_y, y=pred_ridge)\n",
    "plt.title(\"Actual value vs Predicted value (Ridge)\")\n",
    "plt.xlabel(\"Actual value\")\n",
    "plt.ylabel(\"Predicted value\")\n",
    "plt.show()"
   ]
  },
  {
   "cell_type": "markdown",
   "id": "de42ab6b-1458-4a2c-950e-20637c325af2",
   "metadata": {},
   "source": [
    "## LASSO Model"
   ]
  },
  {
   "cell_type": "code",
   "execution_count": 29,
   "id": "bf21be70-0629-4fec-a278-229fc6532e9c",
   "metadata": {},
   "outputs": [
    {
     "data": {
      "text/plain": [
       "401.78195582779637"
      ]
     },
     "execution_count": 29,
     "metadata": {},
     "output_type": "execute_result"
    }
   ],
   "source": [
    "from sklearn.linear_model import Lasso\n",
    "\n",
    "lasso = Lasso()\n",
    "reg_lasso = GridSearchCV(lasso, param, scoring='neg_mean_squared_error')\n",
    "reg_lasso.fit(train_x, train_y)\n",
    "pred_lasso = reg_lasso.predict(test_x)\n",
    "mse = mean_squared_error(test_y, pred_lasso)\n",
    "np.sqrt(mse)"
   ]
  },
  {
   "cell_type": "code",
   "execution_count": 30,
   "id": "0cf63428-2d91-4476-9435-77db2978f032",
   "metadata": {},
   "outputs": [
    {
     "data": {
      "image/png": "[encoded data removed]",
      "text/plain": [
       "<Figure size 640x480 with 1 Axes>"
      ]
     },
     "metadata": {},
     "output_type": "display_data"
    }
   ],
   "source": [
    "plt.scatter(x=test_y, y=pred_lasso)\n",
    "plt.title(\"Actual value vs Predicted value (LASSO)\")\n",
    "plt.xlabel(\"Actual value\")\n",
    "plt.ylabel(\"Predicted value\")\n",
    "plt.show()"
   ]
  },
  {
   "cell_type": "markdown",
   "id": "15eb9be1-534c-4dde-93c9-a5b070c581eb",
   "metadata": {},
   "source": [
    "## Polynomial Regression Model\n",
    "\n",
    "This model adds more dimensions, so we need to fit_transform both the train and test features"
   ]
  },
  {
   "cell_type": "code",
   "execution_count": 31,
   "id": "d86078d0-dc88-4f23-82a9-5d69d987f1f2",
   "metadata": {},
   "outputs": [
    {
     "data": {
      "text/plain": [
       "375.25603798830593"
      ]
     },
     "execution_count": 31,
     "metadata": {},
     "output_type": "execute_result"
    }
   ],
   "source": [
    "from sklearn.preprocessing import PolynomialFeatures\n",
    "\n",
    "pf2 = PolynomialFeatures(degree=2)\n",
    "feat2_train = pf2.fit_transform(train_x)\n",
    "feat2_test = pf2.fit_transform(test_x)\n",
    "\n",
    "reg_pr2 = LinearRegression()\n",
    "reg_pr2.fit(feat2_train, train_y)\n",
    "pred_pr2 = reg_pr2.predict(feat2_test)\n",
    "mse = mean_squared_error(test_y, pred_pr2)\n",
    "np.sqrt(mse)"
   ]
  },
  {
   "cell_type": "code",
   "execution_count": 32,
   "id": "96e2e0bf-006f-4e20-b76f-db44ddab158d",
   "metadata": {},
   "outputs": [
    {
     "data": {
      "image/png": "[encoded data removed]",
      "text/plain": [
       "<Figure size 640x480 with 1 Axes>"
      ]
     },
     "metadata": {},
     "output_type": "display_data"
    }
   ],
   "source": [
    "plt.scatter(x=test_y, y=pred_pr2)\n",
    "plt.title(\"Actual value vs Predicted value (Polynomial 2nd Degree)\")\n",
    "plt.xlabel(\"Actual value\")\n",
    "plt.ylabel(\"Predicted value\")\n",
    "plt.show()"
   ]
  },
  {
   "cell_type": "code",
   "execution_count": 33,
   "id": "6fbb3422-3679-4d06-af0f-9d71f23f1810",
   "metadata": {},
   "outputs": [
    {
     "data": {
      "text/plain": [
       "369.5484422306875"
      ]
     },
     "execution_count": 33,
     "metadata": {},
     "output_type": "execute_result"
    }
   ],
   "source": [
    "pf3 = PolynomialFeatures(degree=3)\n",
    "feat3_train = pf3.fit_transform(train_x)\n",
    "feat3_test = pf3.fit_transform(test_x)\n",
    "\n",
    "reg_pr3 = LinearRegression()\n",
    "reg_pr3.fit(feat3_train, train_y)\n",
    "pred_pr3 = reg_pr3.predict(feat3_test)\n",
    "mse = mean_squared_error(test_y, pred_pr3)\n",
    "np.sqrt(mse)"
   ]
  },
  {
   "cell_type": "code",
   "execution_count": 34,
   "id": "2a4446ca-3a17-493e-be19-7fe14e175d0e",
   "metadata": {},
   "outputs": [
    {
     "data": {
      "image/png": "[encoded data removed]",
      "text/plain": [
       "<Figure size 640x480 with 1 Axes>"
      ]
     },
     "metadata": {},
     "output_type": "display_data"
    }
   ],
   "source": [
    "plt.scatter(x=test_y, y=pred_pr3)\n",
    "plt.title(\"Actual value vs Predicted value (Polynomial 3rd Degree)\")\n",
    "plt.xlabel(\"Actual value\")\n",
    "plt.ylabel(\"Predicted value\")\n",
    "plt.show()"
   ]
  },
  {
   "cell_type": "markdown",
   "id": "71acf320-d1b6-41da-8969-708b6d5496c5",
   "metadata": {},
   "source": [
    "# Model Analysis"
   ]
  },
  {
   "cell_type": "markdown",
   "id": "211b2271-c6ec-4422-a56a-c08160290ee6",
   "metadata": {},
   "source": [
    "The 3 linear models have nearly identical results. The predicted values seem to form layers, likely due to the features being discrete data. Notably, none of the linear models predicted any values greater than 1000, likely due to values in that range being outliers.\n",
    "\n",
    "However, the two polynomial models have much less error. They also better handled the outliers, predicting values above 1000. However, they also predicted values further below zero. The polynomial models do better with predicting values on the higher end, but do worse with predicting values on the lower end.\n",
    "\n",
    "Polynomial regression in the 3rd power produces the least error, so I will use that model on the test data. While increasing the degree would likely further reduce error, we risk the model overfitting our data.\n",
    "\n",
    "In all of the models, negative values were predicted, which would not make sense in this context. The polynomial models were worse in this than the linear models."
   ]
  },
  {
   "cell_type": "markdown",
   "id": "3bdff1ad-848e-4122-9f77-d1c8b5bf0a71",
   "metadata": {},
   "source": [
    "# Apply model"
   ]
  },
  {
   "cell_type": "code",
   "execution_count": 35,
   "id": "89bdd1e6-ce41-46f3-b477-653a84f014bd",
   "metadata": {},
   "outputs": [
    {
     "data": {
      "text/html": [
       "<div>\n",
       "<style scoped>\n",
       "    .dataframe tbody tr th:only-of-type {\n",
       "        vertical-align: middle;\n",
       "    }\n",
       "\n",
       "    .dataframe tbody tr th {\n",
       "        vertical-align: top;\n",
       "    }\n",
       "\n",
       "    .dataframe thead th {\n",
       "        text-align: right;\n",
       "    }\n",
       "</style>\n",
       "<table border=\"1\" class=\"dataframe\">\n",
       "  <thead>\n",
       "    <tr style=\"text-align: right;\">\n",
       "      <th></th>\n",
       "      <th>Cargo Metric TONS</th>\n",
       "    </tr>\n",
       "  </thead>\n",
       "  <tbody>\n",
       "    <tr>\n",
       "      <th>0</th>\n",
       "      <td>125.974861</td>\n",
       "    </tr>\n",
       "    <tr>\n",
       "      <th>1</th>\n",
       "      <td>454.309124</td>\n",
       "    </tr>\n",
       "    <tr>\n",
       "      <th>2</th>\n",
       "      <td>194.726162</td>\n",
       "    </tr>\n",
       "    <tr>\n",
       "      <th>3</th>\n",
       "      <td>505.541994</td>\n",
       "    </tr>\n",
       "    <tr>\n",
       "      <th>4</th>\n",
       "      <td>544.355429</td>\n",
       "    </tr>\n",
       "    <tr>\n",
       "      <th>...</th>\n",
       "      <td>...</td>\n",
       "    </tr>\n",
       "    <tr>\n",
       "      <th>6802</th>\n",
       "      <td>44.601234</td>\n",
       "    </tr>\n",
       "    <tr>\n",
       "      <th>6803</th>\n",
       "      <td>237.466766</td>\n",
       "    </tr>\n",
       "    <tr>\n",
       "      <th>6804</th>\n",
       "      <td>11.832419</td>\n",
       "    </tr>\n",
       "    <tr>\n",
       "      <th>6805</th>\n",
       "      <td>787.885547</td>\n",
       "    </tr>\n",
       "    <tr>\n",
       "      <th>6806</th>\n",
       "      <td>232.256785</td>\n",
       "    </tr>\n",
       "  </tbody>\n",
       "</table>\n",
       "<p>6807 rows × 1 columns</p>\n",
       "</div>"
      ],
      "text/plain": [
       "      Cargo Metric TONS\n",
       "0            125.974861\n",
       "1            454.309124\n",
       "2            194.726162\n",
       "3            505.541994\n",
       "4            544.355429\n",
       "...                 ...\n",
       "6802          44.601234\n",
       "6803         237.466766\n",
       "6804          11.832419\n",
       "6805         787.885547\n",
       "6806         232.256785\n",
       "\n",
       "[6807 rows x 1 columns]"
      ]
     },
     "execution_count": 35,
     "metadata": {},
     "output_type": "execute_result"
    }
   ],
   "source": [
    "test_df = pd.read_csv('Cargo Volume - Test.csv')\n",
    "test_df = transform_df(test_df)\n",
    "test_df = pf3.fit_transform(test_df)\n",
    "\n",
    "pred = reg_pr3.predict(test_df)\n",
    "pred_df = pd.DataFrame(pred, columns=['Cargo Metric TONS'])\n",
    "pred_df"
   ]
  },
  {
   "cell_type": "code",
   "execution_count": 36,
   "id": "ff8c1af2-2c82-4482-8079-1a1526742b93",
   "metadata": {},
   "outputs": [
    {
     "data": {
      "text/html": [
       "<div>\n",
       "<style scoped>\n",
       "    .dataframe tbody tr th:only-of-type {\n",
       "        vertical-align: middle;\n",
       "    }\n",
       "\n",
       "    .dataframe tbody tr th {\n",
       "        vertical-align: top;\n",
       "    }\n",
       "\n",
       "    .dataframe thead th {\n",
       "        text-align: right;\n",
       "    }\n",
       "</style>\n",
       "<table border=\"1\" class=\"dataframe\">\n",
       "  <thead>\n",
       "    <tr style=\"text-align: right;\">\n",
       "      <th></th>\n",
       "      <th>Cargo Metric TONS</th>\n",
       "    </tr>\n",
       "  </thead>\n",
       "  <tbody>\n",
       "    <tr>\n",
       "      <th>count</th>\n",
       "      <td>6807.000000</td>\n",
       "    </tr>\n",
       "    <tr>\n",
       "      <th>mean</th>\n",
       "      <td>222.103231</td>\n",
       "    </tr>\n",
       "    <tr>\n",
       "      <th>std</th>\n",
       "      <td>235.150550</td>\n",
       "    </tr>\n",
       "    <tr>\n",
       "      <th>min</th>\n",
       "      <td>-270.536631</td>\n",
       "    </tr>\n",
       "    <tr>\n",
       "      <th>25%</th>\n",
       "      <td>53.087561</td>\n",
       "    </tr>\n",
       "    <tr>\n",
       "      <th>50%</th>\n",
       "      <td>181.989572</td>\n",
       "    </tr>\n",
       "    <tr>\n",
       "      <th>75%</th>\n",
       "      <td>287.759404</td>\n",
       "    </tr>\n",
       "    <tr>\n",
       "      <th>max</th>\n",
       "      <td>1202.971702</td>\n",
       "    </tr>\n",
       "  </tbody>\n",
       "</table>\n",
       "</div>"
      ],
      "text/plain": [
       "       Cargo Metric TONS\n",
       "count        6807.000000\n",
       "mean          222.103231\n",
       "std           235.150550\n",
       "min          -270.536631\n",
       "25%            53.087561\n",
       "50%           181.989572\n",
       "75%           287.759404\n",
       "max          1202.971702"
      ]
     },
     "execution_count": 36,
     "metadata": {},
     "output_type": "execute_result"
    }
   ],
   "source": [
    "pred_df.describe()"
   ]
  },
  {
   "cell_type": "markdown",
   "id": "a39e23f6-162f-4aa4-a819-199045bda20c",
   "metadata": {},
   "source": [
    "The mean of the predicted values is close to the mean of the training set."
   ]
  },
  {
   "cell_type": "code",
   "execution_count": 37,
   "id": "a83e5a77-c2fa-4307-b7fc-fe5e1c314a37",
   "metadata": {},
   "outputs": [],
   "source": [
    "pred_df.to_csv('dc1.csv', index=False)"
   ]
  }
 ],
 "metadata": {
  "kernelspec": {
   "display_name": "Python 3 (ipykernel)",
   "language": "python",
   "name": "python3"
  },
  "language_info": {
   "codemirror_mode": {
    "name": "ipython",
    "version": 3
   },
   "file_extension": ".py",
   "mimetype": "text/x-python",
   "name": "python",
   "nbconvert_exporter": "python",
   "pygments_lexer": "ipython3",
   "version": "3.11.6"
  }
 },
 "nbformat": 4,
 "nbformat_minor": 5
}
